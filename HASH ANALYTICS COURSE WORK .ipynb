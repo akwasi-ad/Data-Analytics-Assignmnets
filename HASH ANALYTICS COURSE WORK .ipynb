{
 "cells": [
  {
   "cell_type": "code",
   "execution_count": 1,
   "metadata": {},
   "outputs": [],
   "source": [
    "import numpy as np "
   ]
  },
  {
   "cell_type": "code",
   "execution_count": 2,
   "metadata": {},
   "outputs": [
    {
     "data": {
      "text/plain": [
       "array([10, 15, 20, 25, 30, 35, 40, 45, 50, 55, 60, 65, 70, 75, 80, 85, 90,\n",
       "       95])"
      ]
     },
     "execution_count": 2,
     "metadata": {},
     "output_type": "execute_result"
    }
   ],
   "source": [
    "frr=np.arange(10,100,5)\n",
    "frr"
   ]
  },
  {
   "cell_type": "code",
   "execution_count": 4,
   "metadata": {},
   "outputs": [
    {
     "data": {
      "text/plain": [
       "array([10, 15, 20, 25, 30, 35, 40, 45, 50, 55, 60, 65, 70, 75, 80, 85, 90,\n",
       "       95])"
      ]
     },
     "execution_count": 4,
     "metadata": {},
     "output_type": "execute_result"
    }
   ],
   "source": [
    "np.save(\"Save\",frr)\n",
    "rex=np.load('Save.npy')\n",
    "rex"
   ]
  },
  {
   "cell_type": "code",
   "execution_count": 7,
   "metadata": {},
   "outputs": [
    {
     "data": {
      "text/plain": [
       "array([ 0,  1,  2,  3,  4,  5,  6,  7,  8,  9, 10, 11, 12, 13, 14, 15, 16,\n",
       "       17, 18, 19, 20, 21, 22])"
      ]
     },
     "execution_count": 7,
     "metadata": {},
     "output_type": "execute_result"
    }
   ],
   "source": [
    "brr=np.arange(34)\n",
    "uuu=np.arange(23)\n",
    "np.savez(\"bae.npz\",x=brr,y=uuu)\n",
    "gr=np.load(\"bae.npz\")\n",
    "gr['x']\n",
    "gr['y']\n"
   ]
  },
  {
   "cell_type": "markdown",
   "metadata": {},
   "source": [
    "# STATISTICAL & MATHMATICAL PROCESSING OF ARRAYS"
   ]
  },
  {
   "cell_type": "code",
   "execution_count": 20,
   "metadata": {},
   "outputs": [],
   "source": [
    "%matplotlib inline\n",
    "import matplotlib.pyplot as plt"
   ]
  },
  {
   "cell_type": "code",
   "execution_count": 22,
   "metadata": {},
   "outputs": [
    {
     "data": {
      "text/plain": [
       "array([[-200, -190, -180, -170, -160, -150, -140, -130, -120, -110, -100,\n",
       "         -90,  -80,  -70,  -60,  -50,  -40,  -30,  -20,  -10,    0,   10,\n",
       "          20,   30,   40,   50,   60,   70,   80,   90],\n",
       "       [-200, -190, -180, -170, -160, -150, -140, -130, -120, -110, -100,\n",
       "         -90,  -80,  -70,  -60,  -50,  -40,  -30,  -20,  -10,    0,   10,\n",
       "          20,   30,   40,   50,   60,   70,   80,   90],\n",
       "       [-200, -190, -180, -170, -160, -150, -140, -130, -120, -110, -100,\n",
       "         -90,  -80,  -70,  -60,  -50,  -40,  -30,  -20,  -10,    0,   10,\n",
       "          20,   30,   40,   50,   60,   70,   80,   90],\n",
       "       [-200, -190, -180, -170, -160, -150, -140, -130, -120, -110, -100,\n",
       "         -90,  -80,  -70,  -60,  -50,  -40,  -30,  -20,  -10,    0,   10,\n",
       "          20,   30,   40,   50,   60,   70,   80,   90],\n",
       "       [-200, -190, -180, -170, -160, -150, -140, -130, -120, -110, -100,\n",
       "         -90,  -80,  -70,  -60,  -50,  -40,  -30,  -20,  -10,    0,   10,\n",
       "          20,   30,   40,   50,   60,   70,   80,   90],\n",
       "       [-200, -190, -180, -170, -160, -150, -140, -130, -120, -110, -100,\n",
       "         -90,  -80,  -70,  -60,  -50,  -40,  -30,  -20,  -10,    0,   10,\n",
       "          20,   30,   40,   50,   60,   70,   80,   90],\n",
       "       [-200, -190, -180, -170, -160, -150, -140, -130, -120, -110, -100,\n",
       "         -90,  -80,  -70,  -60,  -50,  -40,  -30,  -20,  -10,    0,   10,\n",
       "          20,   30,   40,   50,   60,   70,   80,   90],\n",
       "       [-200, -190, -180, -170, -160, -150, -140, -130, -120, -110, -100,\n",
       "         -90,  -80,  -70,  -60,  -50,  -40,  -30,  -20,  -10,    0,   10,\n",
       "          20,   30,   40,   50,   60,   70,   80,   90],\n",
       "       [-200, -190, -180, -170, -160, -150, -140, -130, -120, -110, -100,\n",
       "         -90,  -80,  -70,  -60,  -50,  -40,  -30,  -20,  -10,    0,   10,\n",
       "          20,   30,   40,   50,   60,   70,   80,   90],\n",
       "       [-200, -190, -180, -170, -160, -150, -140, -130, -120, -110, -100,\n",
       "         -90,  -80,  -70,  -60,  -50,  -40,  -30,  -20,  -10,    0,   10,\n",
       "          20,   30,   40,   50,   60,   70,   80,   90],\n",
       "       [-200, -190, -180, -170, -160, -150, -140, -130, -120, -110, -100,\n",
       "         -90,  -80,  -70,  -60,  -50,  -40,  -30,  -20,  -10,    0,   10,\n",
       "          20,   30,   40,   50,   60,   70,   80,   90],\n",
       "       [-200, -190, -180, -170, -160, -150, -140, -130, -120, -110, -100,\n",
       "         -90,  -80,  -70,  -60,  -50,  -40,  -30,  -20,  -10,    0,   10,\n",
       "          20,   30,   40,   50,   60,   70,   80,   90],\n",
       "       [-200, -190, -180, -170, -160, -150, -140, -130, -120, -110, -100,\n",
       "         -90,  -80,  -70,  -60,  -50,  -40,  -30,  -20,  -10,    0,   10,\n",
       "          20,   30,   40,   50,   60,   70,   80,   90],\n",
       "       [-200, -190, -180, -170, -160, -150, -140, -130, -120, -110, -100,\n",
       "         -90,  -80,  -70,  -60,  -50,  -40,  -30,  -20,  -10,    0,   10,\n",
       "          20,   30,   40,   50,   60,   70,   80,   90],\n",
       "       [-200, -190, -180, -170, -160, -150, -140, -130, -120, -110, -100,\n",
       "         -90,  -80,  -70,  -60,  -50,  -40,  -30,  -20,  -10,    0,   10,\n",
       "          20,   30,   40,   50,   60,   70,   80,   90],\n",
       "       [-200, -190, -180, -170, -160, -150, -140, -130, -120, -110, -100,\n",
       "         -90,  -80,  -70,  -60,  -50,  -40,  -30,  -20,  -10,    0,   10,\n",
       "          20,   30,   40,   50,   60,   70,   80,   90],\n",
       "       [-200, -190, -180, -170, -160, -150, -140, -130, -120, -110, -100,\n",
       "         -90,  -80,  -70,  -60,  -50,  -40,  -30,  -20,  -10,    0,   10,\n",
       "          20,   30,   40,   50,   60,   70,   80,   90],\n",
       "       [-200, -190, -180, -170, -160, -150, -140, -130, -120, -110, -100,\n",
       "         -90,  -80,  -70,  -60,  -50,  -40,  -30,  -20,  -10,    0,   10,\n",
       "          20,   30,   40,   50,   60,   70,   80,   90],\n",
       "       [-200, -190, -180, -170, -160, -150, -140, -130, -120, -110, -100,\n",
       "         -90,  -80,  -70,  -60,  -50,  -40,  -30,  -20,  -10,    0,   10,\n",
       "          20,   30,   40,   50,   60,   70,   80,   90],\n",
       "       [-200, -190, -180, -170, -160, -150, -140, -130, -120, -110, -100,\n",
       "         -90,  -80,  -70,  -60,  -50,  -40,  -30,  -20,  -10,    0,   10,\n",
       "          20,   30,   40,   50,   60,   70,   80,   90],\n",
       "       [-200, -190, -180, -170, -160, -150, -140, -130, -120, -110, -100,\n",
       "         -90,  -80,  -70,  -60,  -50,  -40,  -30,  -20,  -10,    0,   10,\n",
       "          20,   30,   40,   50,   60,   70,   80,   90],\n",
       "       [-200, -190, -180, -170, -160, -150, -140, -130, -120, -110, -100,\n",
       "         -90,  -80,  -70,  -60,  -50,  -40,  -30,  -20,  -10,    0,   10,\n",
       "          20,   30,   40,   50,   60,   70,   80,   90],\n",
       "       [-200, -190, -180, -170, -160, -150, -140, -130, -120, -110, -100,\n",
       "         -90,  -80,  -70,  -60,  -50,  -40,  -30,  -20,  -10,    0,   10,\n",
       "          20,   30,   40,   50,   60,   70,   80,   90],\n",
       "       [-200, -190, -180, -170, -160, -150, -140, -130, -120, -110, -100,\n",
       "         -90,  -80,  -70,  -60,  -50,  -40,  -30,  -20,  -10,    0,   10,\n",
       "          20,   30,   40,   50,   60,   70,   80,   90],\n",
       "       [-200, -190, -180, -170, -160, -150, -140, -130, -120, -110, -100,\n",
       "         -90,  -80,  -70,  -60,  -50,  -40,  -30,  -20,  -10,    0,   10,\n",
       "          20,   30,   40,   50,   60,   70,   80,   90],\n",
       "       [-200, -190, -180, -170, -160, -150, -140, -130, -120, -110, -100,\n",
       "         -90,  -80,  -70,  -60,  -50,  -40,  -30,  -20,  -10,    0,   10,\n",
       "          20,   30,   40,   50,   60,   70,   80,   90],\n",
       "       [-200, -190, -180, -170, -160, -150, -140, -130, -120, -110, -100,\n",
       "         -90,  -80,  -70,  -60,  -50,  -40,  -30,  -20,  -10,    0,   10,\n",
       "          20,   30,   40,   50,   60,   70,   80,   90],\n",
       "       [-200, -190, -180, -170, -160, -150, -140, -130, -120, -110, -100,\n",
       "         -90,  -80,  -70,  -60,  -50,  -40,  -30,  -20,  -10,    0,   10,\n",
       "          20,   30,   40,   50,   60,   70,   80,   90],\n",
       "       [-200, -190, -180, -170, -160, -150, -140, -130, -120, -110, -100,\n",
       "         -90,  -80,  -70,  -60,  -50,  -40,  -30,  -20,  -10,    0,   10,\n",
       "          20,   30,   40,   50,   60,   70,   80,   90],\n",
       "       [-200, -190, -180, -170, -160, -150, -140, -130, -120, -110, -100,\n",
       "         -90,  -80,  -70,  -60,  -50,  -40,  -30,  -20,  -10,    0,   10,\n",
       "          20,   30,   40,   50,   60,   70,   80,   90]])"
      ]
     },
     "execution_count": 22,
     "metadata": {},
     "output_type": "execute_result"
    }
   ],
   "source": [
    "grum=np.arange(-200,100,10)\n",
    "dx,dy=np.meshgrid(grum ,grum)\n",
    "dx"
   ]
  },
  {
   "cell_type": "code",
   "execution_count": 23,
   "metadata": {},
   "outputs": [
    {
     "data": {
      "text/plain": [
       "array([[-200, -200, -200, -200, -200, -200, -200, -200, -200, -200, -200,\n",
       "        -200, -200, -200, -200, -200, -200, -200, -200, -200, -200, -200,\n",
       "        -200, -200, -200, -200, -200, -200, -200, -200],\n",
       "       [-190, -190, -190, -190, -190, -190, -190, -190, -190, -190, -190,\n",
       "        -190, -190, -190, -190, -190, -190, -190, -190, -190, -190, -190,\n",
       "        -190, -190, -190, -190, -190, -190, -190, -190],\n",
       "       [-180, -180, -180, -180, -180, -180, -180, -180, -180, -180, -180,\n",
       "        -180, -180, -180, -180, -180, -180, -180, -180, -180, -180, -180,\n",
       "        -180, -180, -180, -180, -180, -180, -180, -180],\n",
       "       [-170, -170, -170, -170, -170, -170, -170, -170, -170, -170, -170,\n",
       "        -170, -170, -170, -170, -170, -170, -170, -170, -170, -170, -170,\n",
       "        -170, -170, -170, -170, -170, -170, -170, -170],\n",
       "       [-160, -160, -160, -160, -160, -160, -160, -160, -160, -160, -160,\n",
       "        -160, -160, -160, -160, -160, -160, -160, -160, -160, -160, -160,\n",
       "        -160, -160, -160, -160, -160, -160, -160, -160],\n",
       "       [-150, -150, -150, -150, -150, -150, -150, -150, -150, -150, -150,\n",
       "        -150, -150, -150, -150, -150, -150, -150, -150, -150, -150, -150,\n",
       "        -150, -150, -150, -150, -150, -150, -150, -150],\n",
       "       [-140, -140, -140, -140, -140, -140, -140, -140, -140, -140, -140,\n",
       "        -140, -140, -140, -140, -140, -140, -140, -140, -140, -140, -140,\n",
       "        -140, -140, -140, -140, -140, -140, -140, -140],\n",
       "       [-130, -130, -130, -130, -130, -130, -130, -130, -130, -130, -130,\n",
       "        -130, -130, -130, -130, -130, -130, -130, -130, -130, -130, -130,\n",
       "        -130, -130, -130, -130, -130, -130, -130, -130],\n",
       "       [-120, -120, -120, -120, -120, -120, -120, -120, -120, -120, -120,\n",
       "        -120, -120, -120, -120, -120, -120, -120, -120, -120, -120, -120,\n",
       "        -120, -120, -120, -120, -120, -120, -120, -120],\n",
       "       [-110, -110, -110, -110, -110, -110, -110, -110, -110, -110, -110,\n",
       "        -110, -110, -110, -110, -110, -110, -110, -110, -110, -110, -110,\n",
       "        -110, -110, -110, -110, -110, -110, -110, -110],\n",
       "       [-100, -100, -100, -100, -100, -100, -100, -100, -100, -100, -100,\n",
       "        -100, -100, -100, -100, -100, -100, -100, -100, -100, -100, -100,\n",
       "        -100, -100, -100, -100, -100, -100, -100, -100],\n",
       "       [ -90,  -90,  -90,  -90,  -90,  -90,  -90,  -90,  -90,  -90,  -90,\n",
       "         -90,  -90,  -90,  -90,  -90,  -90,  -90,  -90,  -90,  -90,  -90,\n",
       "         -90,  -90,  -90,  -90,  -90,  -90,  -90,  -90],\n",
       "       [ -80,  -80,  -80,  -80,  -80,  -80,  -80,  -80,  -80,  -80,  -80,\n",
       "         -80,  -80,  -80,  -80,  -80,  -80,  -80,  -80,  -80,  -80,  -80,\n",
       "         -80,  -80,  -80,  -80,  -80,  -80,  -80,  -80],\n",
       "       [ -70,  -70,  -70,  -70,  -70,  -70,  -70,  -70,  -70,  -70,  -70,\n",
       "         -70,  -70,  -70,  -70,  -70,  -70,  -70,  -70,  -70,  -70,  -70,\n",
       "         -70,  -70,  -70,  -70,  -70,  -70,  -70,  -70],\n",
       "       [ -60,  -60,  -60,  -60,  -60,  -60,  -60,  -60,  -60,  -60,  -60,\n",
       "         -60,  -60,  -60,  -60,  -60,  -60,  -60,  -60,  -60,  -60,  -60,\n",
       "         -60,  -60,  -60,  -60,  -60,  -60,  -60,  -60],\n",
       "       [ -50,  -50,  -50,  -50,  -50,  -50,  -50,  -50,  -50,  -50,  -50,\n",
       "         -50,  -50,  -50,  -50,  -50,  -50,  -50,  -50,  -50,  -50,  -50,\n",
       "         -50,  -50,  -50,  -50,  -50,  -50,  -50,  -50],\n",
       "       [ -40,  -40,  -40,  -40,  -40,  -40,  -40,  -40,  -40,  -40,  -40,\n",
       "         -40,  -40,  -40,  -40,  -40,  -40,  -40,  -40,  -40,  -40,  -40,\n",
       "         -40,  -40,  -40,  -40,  -40,  -40,  -40,  -40],\n",
       "       [ -30,  -30,  -30,  -30,  -30,  -30,  -30,  -30,  -30,  -30,  -30,\n",
       "         -30,  -30,  -30,  -30,  -30,  -30,  -30,  -30,  -30,  -30,  -30,\n",
       "         -30,  -30,  -30,  -30,  -30,  -30,  -30,  -30],\n",
       "       [ -20,  -20,  -20,  -20,  -20,  -20,  -20,  -20,  -20,  -20,  -20,\n",
       "         -20,  -20,  -20,  -20,  -20,  -20,  -20,  -20,  -20,  -20,  -20,\n",
       "         -20,  -20,  -20,  -20,  -20,  -20,  -20,  -20],\n",
       "       [ -10,  -10,  -10,  -10,  -10,  -10,  -10,  -10,  -10,  -10,  -10,\n",
       "         -10,  -10,  -10,  -10,  -10,  -10,  -10,  -10,  -10,  -10,  -10,\n",
       "         -10,  -10,  -10,  -10,  -10,  -10,  -10,  -10],\n",
       "       [   0,    0,    0,    0,    0,    0,    0,    0,    0,    0,    0,\n",
       "           0,    0,    0,    0,    0,    0,    0,    0,    0,    0,    0,\n",
       "           0,    0,    0,    0,    0,    0,    0,    0],\n",
       "       [  10,   10,   10,   10,   10,   10,   10,   10,   10,   10,   10,\n",
       "          10,   10,   10,   10,   10,   10,   10,   10,   10,   10,   10,\n",
       "          10,   10,   10,   10,   10,   10,   10,   10],\n",
       "       [  20,   20,   20,   20,   20,   20,   20,   20,   20,   20,   20,\n",
       "          20,   20,   20,   20,   20,   20,   20,   20,   20,   20,   20,\n",
       "          20,   20,   20,   20,   20,   20,   20,   20],\n",
       "       [  30,   30,   30,   30,   30,   30,   30,   30,   30,   30,   30,\n",
       "          30,   30,   30,   30,   30,   30,   30,   30,   30,   30,   30,\n",
       "          30,   30,   30,   30,   30,   30,   30,   30],\n",
       "       [  40,   40,   40,   40,   40,   40,   40,   40,   40,   40,   40,\n",
       "          40,   40,   40,   40,   40,   40,   40,   40,   40,   40,   40,\n",
       "          40,   40,   40,   40,   40,   40,   40,   40],\n",
       "       [  50,   50,   50,   50,   50,   50,   50,   50,   50,   50,   50,\n",
       "          50,   50,   50,   50,   50,   50,   50,   50,   50,   50,   50,\n",
       "          50,   50,   50,   50,   50,   50,   50,   50],\n",
       "       [  60,   60,   60,   60,   60,   60,   60,   60,   60,   60,   60,\n",
       "          60,   60,   60,   60,   60,   60,   60,   60,   60,   60,   60,\n",
       "          60,   60,   60,   60,   60,   60,   60,   60],\n",
       "       [  70,   70,   70,   70,   70,   70,   70,   70,   70,   70,   70,\n",
       "          70,   70,   70,   70,   70,   70,   70,   70,   70,   70,   70,\n",
       "          70,   70,   70,   70,   70,   70,   70,   70],\n",
       "       [  80,   80,   80,   80,   80,   80,   80,   80,   80,   80,   80,\n",
       "          80,   80,   80,   80,   80,   80,   80,   80,   80,   80,   80,\n",
       "          80,   80,   80,   80,   80,   80,   80,   80],\n",
       "       [  90,   90,   90,   90,   90,   90,   90,   90,   90,   90,   90,\n",
       "          90,   90,   90,   90,   90,   90,   90,   90,   90,   90,   90,\n",
       "          90,   90,   90,   90,   90,   90,   90,   90]])"
      ]
     },
     "execution_count": 23,
     "metadata": {},
     "output_type": "execute_result"
    }
   ],
   "source": [
    "dy"
   ]
  },
  {
   "cell_type": "code",
   "execution_count": 31,
   "metadata": {},
   "outputs": [
    {
     "data": {
      "image/png": "[encoded data removed]",
      "text/plain": [
       "<Figure size 432x288 with 2 Axes>"
      ]
     },
     "metadata": {
      "needs_background": "light"
     },
     "output_type": "display_data"
    }
   ],
   "source": [
    "function=2*dx+3*dy\n",
    "function2=np.cos(dx)+np.cos(dy)\n",
    "plt.imshow(function2)\n",
    "plt.colorbar()\n",
    "plt.title(\"A FUNTION OF DX AND DY \")\n",
    "plt.xlabel('DX')\n",
    "plt.ylabel('DY')\n",
    "plt.show()"
   ]
  },
  {
   "cell_type": "markdown",
   "metadata": {},
   "source": [
    "# CONDITIONAL STAEMENTS AND BOOLEAN OPERATIONS USING NUMPY"
   ]
  },
  {
   "cell_type": "code",
   "execution_count": 32,
   "metadata": {},
   "outputs": [
    {
     "data": {
      "text/plain": [
       "9.1875"
      ]
     },
     "execution_count": 32,
     "metadata": {},
     "output_type": "execute_result"
    }
   ],
   "source": [
    "abb=np.array([1,4,7,9])\n",
    "abb.var()"
   ]
  },
  {
   "cell_type": "code",
   "execution_count": 33,
   "metadata": {},
   "outputs": [
    {
     "data": {
      "text/plain": [
       "3.031088913245535"
      ]
     },
     "execution_count": 33,
     "metadata": {},
     "output_type": "execute_result"
    }
   ],
   "source": [
    "abb.mean()\n",
    "abb.std()"
   ]
  },
  {
   "cell_type": "code",
   "execution_count": 34,
   "metadata": {},
   "outputs": [
    {
     "data": {
      "text/plain": [
       "5.25"
      ]
     },
     "execution_count": 34,
     "metadata": {},
     "output_type": "execute_result"
    }
   ],
   "source": [
    "abb.mean()"
   ]
  },
  {
   "cell_type": "code",
   "execution_count": 37,
   "metadata": {},
   "outputs": [
    {
     "data": {
      "text/plain": [
       "array([1, 3, 3, 5, 5, 6, 7, 8, 9])"
      ]
     },
     "execution_count": 37,
     "metadata": {},
     "output_type": "execute_result"
    }
   ],
   "source": [
    "unsorted=np.array([6,3,5,8,9,3,1,5,7])\n",
    "unsorted.sort()\n",
    "unsorted"
   ]
  },
  {
   "cell_type": "code",
   "execution_count": 42,
   "metadata": {},
   "outputs": [
    {
     "data": {
      "text/plain": [
       "array([ 1,  4,  7, 12, 17, 23, 30, 38, 47], dtype=int32)"
      ]
     },
     "execution_count": 42,
     "metadata": {},
     "output_type": "execute_result"
    }
   ],
   "source": [
    "unsorted.cumsum()\n",
    "unsorted.cumsum()"
   ]
  },
  {
   "cell_type": "markdown",
   "metadata": {},
   "source": [
    "# PANDAS STATISTICS"
   ]
  },
  {
   "cell_type": "code",
   "execution_count": 43,
   "metadata": {},
   "outputs": [],
   "source": [
    "import pandas as pd "
   ]
  },
  {
   "cell_type": "code",
   "execution_count": 50,
   "metadata": {},
   "outputs": [
    {
     "data": {
      "text/html": [
       "<div>\n",
       "<style scoped>\n",
       "    .dataframe tbody tr th:only-of-type {\n",
       "        vertical-align: middle;\n",
       "    }\n",
       "\n",
       "    .dataframe tbody tr th {\n",
       "        vertical-align: top;\n",
       "    }\n",
       "\n",
       "    .dataframe thead th {\n",
       "        text-align: right;\n",
       "    }\n",
       "</style>\n",
       "<table border=\"1\" class=\"dataframe\">\n",
       "  <thead>\n",
       "    <tr style=\"text-align: right;\">\n",
       "      <th></th>\n",
       "      <th>A</th>\n",
       "      <th>B</th>\n",
       "      <th>C</th>\n",
       "    </tr>\n",
       "  </thead>\n",
       "  <tbody>\n",
       "    <tr>\n",
       "      <th>0</th>\n",
       "      <td>3.0</td>\n",
       "      <td>NaN</td>\n",
       "      <td>6.0</td>\n",
       "    </tr>\n",
       "    <tr>\n",
       "      <th>1</th>\n",
       "      <td>8.0</td>\n",
       "      <td>5.0</td>\n",
       "      <td>NaN</td>\n",
       "    </tr>\n",
       "  </tbody>\n",
       "</table>\n",
       "</div>"
      ],
      "text/plain": [
       "     A    B    C\n",
       "0  3.0  NaN  6.0\n",
       "1  8.0  5.0  NaN"
      ]
     },
     "execution_count": 50,
     "metadata": {},
     "output_type": "execute_result"
    }
   ],
   "source": [
    "www=np.array([[3,np.nan,6],[8,5,np.nan]])\n",
    "df=pd.DataFrame(www,columns=['A','B','C'])\n",
    "df"
   ]
  },
  {
   "cell_type": "code",
   "execution_count": 52,
   "metadata": {},
   "outputs": [
    {
     "data": {
      "text/plain": [
       "A    11.0\n",
       "B     5.0\n",
       "C     6.0\n",
       "dtype: float64"
      ]
     },
     "execution_count": 52,
     "metadata": {},
     "output_type": "execute_result"
    }
   ],
   "source": [
    "df.sum()"
   ]
  },
  {
   "cell_type": "code",
   "execution_count": 53,
   "metadata": {},
   "outputs": [
    {
     "data": {
      "text/plain": [
       "0     9.0\n",
       "1    13.0\n",
       "dtype: float64"
      ]
     },
     "execution_count": 53,
     "metadata": {},
     "output_type": "execute_result"
    }
   ],
   "source": [
    "df.sum(axis=1)"
   ]
  },
  {
   "cell_type": "code",
   "execution_count": 54,
   "metadata": {},
   "outputs": [
    {
     "data": {
      "text/plain": [
       "A    3.0\n",
       "B    5.0\n",
       "C    6.0\n",
       "dtype: float64"
      ]
     },
     "execution_count": 54,
     "metadata": {},
     "output_type": "execute_result"
    }
   ],
   "source": [
    "df.min()"
   ]
  },
  {
   "cell_type": "code",
   "execution_count": 55,
   "metadata": {},
   "outputs": [
    {
     "data": {
      "text/plain": [
       "A    8.0\n",
       "B    5.0\n",
       "C    6.0\n",
       "dtype: float64"
      ]
     },
     "execution_count": 55,
     "metadata": {},
     "output_type": "execute_result"
    }
   ],
   "source": [
    "df.max()"
   ]
  },
  {
   "cell_type": "code",
   "execution_count": 56,
   "metadata": {},
   "outputs": [
    {
     "data": {
      "text/plain": [
       "A    1\n",
       "B    1\n",
       "C    0\n",
       "dtype: int64"
      ]
     },
     "execution_count": 56,
     "metadata": {},
     "output_type": "execute_result"
    }
   ],
   "source": [
    "df.idxmax()"
   ]
  },
  {
   "cell_type": "code",
   "execution_count": 57,
   "metadata": {},
   "outputs": [
    {
     "data": {
      "text/html": [
       "<div>\n",
       "<style scoped>\n",
       "    .dataframe tbody tr th:only-of-type {\n",
       "        vertical-align: middle;\n",
       "    }\n",
       "\n",
       "    .dataframe tbody tr th {\n",
       "        vertical-align: top;\n",
       "    }\n",
       "\n",
       "    .dataframe thead th {\n",
       "        text-align: right;\n",
       "    }\n",
       "</style>\n",
       "<table border=\"1\" class=\"dataframe\">\n",
       "  <thead>\n",
       "    <tr style=\"text-align: right;\">\n",
       "      <th></th>\n",
       "      <th>A</th>\n",
       "      <th>B</th>\n",
       "      <th>C</th>\n",
       "    </tr>\n",
       "  </thead>\n",
       "  <tbody>\n",
       "    <tr>\n",
       "      <th>count</th>\n",
       "      <td>2.000000</td>\n",
       "      <td>1.0</td>\n",
       "      <td>1.0</td>\n",
       "    </tr>\n",
       "    <tr>\n",
       "      <th>mean</th>\n",
       "      <td>5.500000</td>\n",
       "      <td>5.0</td>\n",
       "      <td>6.0</td>\n",
       "    </tr>\n",
       "    <tr>\n",
       "      <th>std</th>\n",
       "      <td>3.535534</td>\n",
       "      <td>NaN</td>\n",
       "      <td>NaN</td>\n",
       "    </tr>\n",
       "    <tr>\n",
       "      <th>min</th>\n",
       "      <td>3.000000</td>\n",
       "      <td>5.0</td>\n",
       "      <td>6.0</td>\n",
       "    </tr>\n",
       "    <tr>\n",
       "      <th>25%</th>\n",
       "      <td>4.250000</td>\n",
       "      <td>5.0</td>\n",
       "      <td>6.0</td>\n",
       "    </tr>\n",
       "    <tr>\n",
       "      <th>50%</th>\n",
       "      <td>5.500000</td>\n",
       "      <td>5.0</td>\n",
       "      <td>6.0</td>\n",
       "    </tr>\n",
       "    <tr>\n",
       "      <th>75%</th>\n",
       "      <td>6.750000</td>\n",
       "      <td>5.0</td>\n",
       "      <td>6.0</td>\n",
       "    </tr>\n",
       "    <tr>\n",
       "      <th>max</th>\n",
       "      <td>8.000000</td>\n",
       "      <td>5.0</td>\n",
       "      <td>6.0</td>\n",
       "    </tr>\n",
       "  </tbody>\n",
       "</table>\n",
       "</div>"
      ],
      "text/plain": [
       "              A    B    C\n",
       "count  2.000000  1.0  1.0\n",
       "mean   5.500000  5.0  6.0\n",
       "std    3.535534  NaN  NaN\n",
       "min    3.000000  5.0  6.0\n",
       "25%    4.250000  5.0  6.0\n",
       "50%    5.500000  5.0  6.0\n",
       "75%    6.750000  5.0  6.0\n",
       "max    8.000000  5.0  6.0"
      ]
     },
     "execution_count": 57,
     "metadata": {},
     "output_type": "execute_result"
    }
   ],
   "source": [
    "df.describe()"
   ]
  },
  {
   "cell_type": "code",
   "execution_count": 64,
   "metadata": {
    "scrolled": true
   },
   "outputs": [
    {
     "data": {
      "text/html": [
       "<div>\n",
       "<style scoped>\n",
       "    .dataframe tbody tr th:only-of-type {\n",
       "        vertical-align: middle;\n",
       "    }\n",
       "\n",
       "    .dataframe tbody tr th {\n",
       "        vertical-align: top;\n",
       "    }\n",
       "\n",
       "    .dataframe thead th {\n",
       "        text-align: right;\n",
       "    }\n",
       "</style>\n",
       "<table border=\"1\" class=\"dataframe\">\n",
       "  <thead>\n",
       "    <tr style=\"text-align: right;\">\n",
       "      <th></th>\n",
       "      <th>A</th>\n",
       "      <th>B</th>\n",
       "      <th>C</th>\n",
       "      <th>D</th>\n",
       "      <th>E</th>\n",
       "    </tr>\n",
       "  </thead>\n",
       "  <tbody>\n",
       "    <tr>\n",
       "      <th>0</th>\n",
       "      <td>0.450341</td>\n",
       "      <td>0.120618</td>\n",
       "      <td>0.770418</td>\n",
       "      <td>0.339782</td>\n",
       "      <td>0.773960</td>\n",
       "    </tr>\n",
       "    <tr>\n",
       "      <th>1</th>\n",
       "      <td>0.085433</td>\n",
       "      <td>0.975934</td>\n",
       "      <td>0.970714</td>\n",
       "      <td>0.763403</td>\n",
       "      <td>0.610461</td>\n",
       "    </tr>\n",
       "    <tr>\n",
       "      <th>2</th>\n",
       "      <td>0.482210</td>\n",
       "      <td>0.141896</td>\n",
       "      <td>0.881307</td>\n",
       "      <td>0.943248</td>\n",
       "      <td>0.928699</td>\n",
       "    </tr>\n",
       "    <tr>\n",
       "      <th>3</th>\n",
       "      <td>0.800692</td>\n",
       "      <td>0.551592</td>\n",
       "      <td>0.633046</td>\n",
       "      <td>0.967751</td>\n",
       "      <td>0.542224</td>\n",
       "    </tr>\n",
       "    <tr>\n",
       "      <th>4</th>\n",
       "      <td>0.186391</td>\n",
       "      <td>0.651746</td>\n",
       "      <td>0.783683</td>\n",
       "      <td>0.655770</td>\n",
       "      <td>0.933480</td>\n",
       "    </tr>\n",
       "  </tbody>\n",
       "</table>\n",
       "</div>"
      ],
      "text/plain": [
       "          A         B         C         D         E\n",
       "0  0.450341  0.120618  0.770418  0.339782  0.773960\n",
       "1  0.085433  0.975934  0.970714  0.763403  0.610461\n",
       "2  0.482210  0.141896  0.881307  0.943248  0.928699\n",
       "3  0.800692  0.551592  0.633046  0.967751  0.542224\n",
       "4  0.186391  0.651746  0.783683  0.655770  0.933480"
      ]
     },
     "execution_count": 64,
     "metadata": {},
     "output_type": "execute_result"
    }
   ],
   "source": []
  },
  {
   "cell_type": "code",
   "execution_count": 68,
   "metadata": {},
   "outputs": [
    {
     "data": {
      "image/png": "[encoded data removed]",
      "text/plain": [
       "<Figure size 432x288 with 1 Axes>"
      ]
     },
     "metadata": {
      "needs_background": "light"
     },
     "output_type": "display_data"
    }
   ],
   "source": [
    "plt.plot(dp)\n",
    "plt.legend(dp.columns)\n",
    "plt.show()"
   ]
  },
  {
   "cell_type": "code",
   "execution_count": 76,
   "metadata": {},
   "outputs": [
    {
     "data": {
      "text/plain": [
       "2020-10-10    A\n",
       "2020-10-11    B\n",
       "2020-10-12    C\n",
       "2020-10-13    D\n",
       "2020-10-14    E\n",
       "2020-10-15    F\n",
       "2020-10-16    G\n",
       "2020-10-17    H\n",
       "Freq: D, dtype: object"
      ]
     },
     "execution_count": 76,
     "metadata": {},
     "output_type": "execute_result"
    }
   ],
   "source": [
    "e=pd.Series(['A','B','C','D','E','F','G','H'])\n",
    "b=pd.date_range('20201010',periods=8)\n",
    "e.index=b\n",
    "e\n",
    "e.unique()\n",
    "\n",
    "e"
   ]
  },
  {
   "cell_type": "code",
   "execution_count": 78,
   "metadata": {},
   "outputs": [
    {
     "data": {
      "text/plain": [
       "0     11.0\n",
       "1      2.0\n",
       "2      9.0\n",
       "3      3.0\n",
       "4      4.0\n",
       "5      5.0\n",
       "6      6.0\n",
       "7      8.0\n",
       "8      7.0\n",
       "9     10.0\n",
       "10     1.0\n",
       "dtype: float64"
      ]
     },
     "execution_count": 78,
     "metadata": {},
     "output_type": "execute_result"
    }
   ],
   "source": [
    "EE=pd.Series([1212,3,43,6,7,8,9,32,10,312,2])\n",
    "EE.sort_index()\n",
    "EE.rank()"
   ]
  },
  {
   "cell_type": "markdown",
   "metadata": {},
   "source": [
    "# DATA ALINGMENT"
   ]
  },
  {
   "cell_type": "code",
   "execution_count": 81,
   "metadata": {},
   "outputs": [
    {
     "ename": "SyntaxError",
     "evalue": "invalid syntax (<ipython-input-81-f6312cecfd60>, line 4)",
     "output_type": "error",
     "traceback": [
      "\u001b[1;36m  File \u001b[1;32m\"<ipython-input-81-f6312cecfd60>\"\u001b[1;36m, line \u001b[1;32m4\u001b[0m\n\u001b[1;33m    RR.fillna([3:900])\u001b[0m\n\u001b[1;37m                ^\u001b[0m\n\u001b[1;31mSyntaxError\u001b[0m\u001b[1;31m:\u001b[0m invalid syntax\n"
     ]
    }
   ],
   "source": [
    "series=pd.Series([100,200,300],index=['a','b','c'])\n",
    "series2=pd.Series([300,400,500,600],index=['a','b','c','d'])\n",
    "RR=series+series2\n"
   ]
  },
  {
   "cell_type": "code",
   "execution_count": 103,
   "metadata": {},
   "outputs": [
    {
     "data": {
      "text/html": [
       "<div>\n",
       "<style scoped>\n",
       "    .dataframe tbody tr th:only-of-type {\n",
       "        vertical-align: middle;\n",
       "    }\n",
       "\n",
       "    .dataframe tbody tr th {\n",
       "        vertical-align: top;\n",
       "    }\n",
       "\n",
       "    .dataframe thead th {\n",
       "        text-align: right;\n",
       "    }\n",
       "</style>\n",
       "<table border=\"1\" class=\"dataframe\">\n",
       "  <thead>\n",
       "    <tr style=\"text-align: right;\">\n",
       "      <th></th>\n",
       "      <th>0</th>\n",
       "    </tr>\n",
       "  </thead>\n",
       "  <tbody>\n",
       "    <tr>\n",
       "      <th>0</th>\n",
       "      <td>COUNTRY COUNTRY CO...</td>\n",
       "    </tr>\n",
       "    <tr>\n",
       "      <th>1</th>\n",
       "      <td>COUNTRY COUNTRY CO...</td>\n",
       "    </tr>\n",
       "  </tbody>\n",
       "</table>\n",
       "</div>"
      ],
      "text/plain": [
       "                                                   0\n",
       "0                              COUNTRY COUNTRY CO...\n",
       "1                              COUNTRY COUNTRY CO..."
      ]
     },
     "execution_count": 103,
     "metadata": {},
     "output_type": "execute_result"
    }
   ],
   "source": [
    "from IPython.display import display_html\n",
    "ooo=pd.read_html('https://countrycode.org/',header=[0])\n",
    "ooo=pd.DataFrame(ooo).head(10)\n",
    "ooo"
   ]
  },
  {
   "cell_type": "code",
   "execution_count": 104,
   "metadata": {},
   "outputs": [
    {
     "data": {
      "text/plain": [
       "[     OrderDate   Region       Rep     Item  Units  UnitCost    Total\n",
       " 0     1/6/2019     East     Jones   Pencil     95      1.99   189.05\n",
       " 1    1/23/2019  Central    Kivell   Binder     50     19.99   999.50\n",
       " 2     2/9/2019  Central   Jardine   Pencil     36      4.99   179.64\n",
       " 3    2/26/2019  Central      Gill      Pen     27     19.99   539.73\n",
       " 4    3/15/2019     West   Sorvino   Pencil     56      2.99   167.44\n",
       " 5     4/1/2019     East     Jones   Binder     60      4.99   299.40\n",
       " 6    4/18/2019  Central   Andrews   Pencil     75      1.99   149.25\n",
       " 7     5/5/2019  Central   Jardine   Pencil     90      4.99   449.10\n",
       " 8    5/22/2019     West  Thompson   Pencil     32      1.99    63.68\n",
       " 9     6/8/2019     East     Jones   Binder     60      8.99   539.40\n",
       " 10   6/25/2019  Central    Morgan   Pencil     90      4.99   449.10\n",
       " 11   7/12/2019     East    Howard   Binder     29      1.99    57.71\n",
       " 12   7/29/2019     East    Parent   Binder     81     19.99  1619.19\n",
       " 13   8/15/2019     East     Jones   Pencil     35      4.99   174.65\n",
       " 14    9/1/2019  Central     Smith     Desk      2    125.00   250.00\n",
       " 15   9/18/2019     East     Jones  Pen Set     16     15.99   255.84\n",
       " 16   10/5/2019  Central    Morgan   Binder     28      8.99   251.72\n",
       " 17  10/22/2019     East     Jones      Pen     64      8.99   575.36\n",
       " 18   11/8/2019     East    Parent      Pen     15     19.99   299.85\n",
       " 19  11/25/2019  Central    Kivell  Pen Set     96      4.99   479.04\n",
       " 20  12/12/2019  Central     Smith   Pencil     67      1.29    86.43\n",
       " 21  12/29/2019     East    Parent  Pen Set     74     15.99  1183.26\n",
       " 22   1/15/2020  Central      Gill   Binder     46      8.99   413.54\n",
       " 23    2/1/2020  Central     Smith   Binder     87     15.00  1305.00\n",
       " 24   2/18/2020     East     Jones   Binder      4      4.99    19.96\n",
       " 25    3/7/2020     West   Sorvino   Binder      7     19.99   139.93\n",
       " 26   3/24/2020  Central   Jardine  Pen Set     50      4.99   249.50\n",
       " 27   4/10/2020  Central   Andrews   Pencil     66      1.99   131.34\n",
       " 28   4/27/2020     East    Howard      Pen     96      4.99   479.04\n",
       " 29   5/14/2020  Central      Gill   Pencil     53      1.29    68.37\n",
       " 30   5/31/2020  Central      Gill   Binder     80      8.99   719.20\n",
       " 31   6/17/2020  Central    Kivell     Desk      5    125.00   625.00\n",
       " 32    7/4/2020     East     Jones  Pen Set     62      4.99   309.38\n",
       " 33   7/21/2020  Central    Morgan  Pen Set     55     12.49   686.95\n",
       " 34    8/7/2020  Central    Kivell  Pen Set     42     23.95  1005.90\n",
       " 35   8/24/2020     West   Sorvino     Desk      3    275.00   825.00\n",
       " 36   9/10/2020  Central      Gill   Pencil      7      1.29     9.03\n",
       " 37   9/27/2020     West   Sorvino      Pen     76      1.99   151.24\n",
       " 38  10/14/2020     West  Thompson   Binder     57     19.99  1139.43\n",
       " 39  10/31/2020  Central   Andrews   Pencil     14      1.29    18.06\n",
       " 40  11/17/2020  Central   Jardine   Binder     11      4.99    54.89\n",
       " 41   12/4/2020  Central   Jardine   Binder     94     19.99  1879.06\n",
       " 42  12/21/2020  Central   Andrews   Binder     28      4.99   139.72]"
      ]
     },
     "execution_count": 104,
     "metadata": {},
     "output_type": "execute_result"
    }
   ],
   "source": [
    "eee=pd.read_html('http://www.contextures.com/xlSampleData01.html',header=0)\n",
    "eee"
   ]
  },
  {
   "cell_type": "code",
   "execution_count": 105,
   "metadata": {},
   "outputs": [
    {
     "data": {
      "text/html": [
       "<div>\n",
       "<style scoped>\n",
       "    .dataframe tbody tr th:only-of-type {\n",
       "        vertical-align: middle;\n",
       "    }\n",
       "\n",
       "    .dataframe tbody tr th {\n",
       "        vertical-align: top;\n",
       "    }\n",
       "\n",
       "    .dataframe thead th {\n",
       "        text-align: right;\n",
       "    }\n",
       "</style>\n",
       "<table border=\"1\" class=\"dataframe\">\n",
       "  <thead>\n",
       "    <tr style=\"text-align: right;\">\n",
       "      <th></th>\n",
       "      <th>OrderDate</th>\n",
       "      <th>Region</th>\n",
       "      <th>Rep</th>\n",
       "      <th>Item</th>\n",
       "      <th>Units</th>\n",
       "      <th>UnitCost</th>\n",
       "      <th>Total</th>\n",
       "    </tr>\n",
       "  </thead>\n",
       "  <tbody>\n",
       "    <tr>\n",
       "      <th>0</th>\n",
       "      <td>1/6/2019</td>\n",
       "      <td>East</td>\n",
       "      <td>Jones</td>\n",
       "      <td>Pencil</td>\n",
       "      <td>95</td>\n",
       "      <td>1.99</td>\n",
       "      <td>189.05</td>\n",
       "    </tr>\n",
       "    <tr>\n",
       "      <th>1</th>\n",
       "      <td>1/23/2019</td>\n",
       "      <td>Central</td>\n",
       "      <td>Kivell</td>\n",
       "      <td>Binder</td>\n",
       "      <td>50</td>\n",
       "      <td>19.99</td>\n",
       "      <td>999.50</td>\n",
       "    </tr>\n",
       "    <tr>\n",
       "      <th>2</th>\n",
       "      <td>2/9/2019</td>\n",
       "      <td>Central</td>\n",
       "      <td>Jardine</td>\n",
       "      <td>Pencil</td>\n",
       "      <td>36</td>\n",
       "      <td>4.99</td>\n",
       "      <td>179.64</td>\n",
       "    </tr>\n",
       "    <tr>\n",
       "      <th>3</th>\n",
       "      <td>2/26/2019</td>\n",
       "      <td>Central</td>\n",
       "      <td>Gill</td>\n",
       "      <td>Pen</td>\n",
       "      <td>27</td>\n",
       "      <td>19.99</td>\n",
       "      <td>539.73</td>\n",
       "    </tr>\n",
       "    <tr>\n",
       "      <th>4</th>\n",
       "      <td>3/15/2019</td>\n",
       "      <td>West</td>\n",
       "      <td>Sorvino</td>\n",
       "      <td>Pencil</td>\n",
       "      <td>56</td>\n",
       "      <td>2.99</td>\n",
       "      <td>167.44</td>\n",
       "    </tr>\n",
       "    <tr>\n",
       "      <th>5</th>\n",
       "      <td>4/1/2019</td>\n",
       "      <td>East</td>\n",
       "      <td>Jones</td>\n",
       "      <td>Binder</td>\n",
       "      <td>60</td>\n",
       "      <td>4.99</td>\n",
       "      <td>299.40</td>\n",
       "    </tr>\n",
       "    <tr>\n",
       "      <th>6</th>\n",
       "      <td>4/18/2019</td>\n",
       "      <td>Central</td>\n",
       "      <td>Andrews</td>\n",
       "      <td>Pencil</td>\n",
       "      <td>75</td>\n",
       "      <td>1.99</td>\n",
       "      <td>149.25</td>\n",
       "    </tr>\n",
       "    <tr>\n",
       "      <th>7</th>\n",
       "      <td>5/5/2019</td>\n",
       "      <td>Central</td>\n",
       "      <td>Jardine</td>\n",
       "      <td>Pencil</td>\n",
       "      <td>90</td>\n",
       "      <td>4.99</td>\n",
       "      <td>449.10</td>\n",
       "    </tr>\n",
       "    <tr>\n",
       "      <th>8</th>\n",
       "      <td>5/22/2019</td>\n",
       "      <td>West</td>\n",
       "      <td>Thompson</td>\n",
       "      <td>Pencil</td>\n",
       "      <td>32</td>\n",
       "      <td>1.99</td>\n",
       "      <td>63.68</td>\n",
       "    </tr>\n",
       "    <tr>\n",
       "      <th>9</th>\n",
       "      <td>6/8/2019</td>\n",
       "      <td>East</td>\n",
       "      <td>Jones</td>\n",
       "      <td>Binder</td>\n",
       "      <td>60</td>\n",
       "      <td>8.99</td>\n",
       "      <td>539.40</td>\n",
       "    </tr>\n",
       "    <tr>\n",
       "      <th>10</th>\n",
       "      <td>6/25/2019</td>\n",
       "      <td>Central</td>\n",
       "      <td>Morgan</td>\n",
       "      <td>Pencil</td>\n",
       "      <td>90</td>\n",
       "      <td>4.99</td>\n",
       "      <td>449.10</td>\n",
       "    </tr>\n",
       "    <tr>\n",
       "      <th>11</th>\n",
       "      <td>7/12/2019</td>\n",
       "      <td>East</td>\n",
       "      <td>Howard</td>\n",
       "      <td>Binder</td>\n",
       "      <td>29</td>\n",
       "      <td>1.99</td>\n",
       "      <td>57.71</td>\n",
       "    </tr>\n",
       "    <tr>\n",
       "      <th>12</th>\n",
       "      <td>7/29/2019</td>\n",
       "      <td>East</td>\n",
       "      <td>Parent</td>\n",
       "      <td>Binder</td>\n",
       "      <td>81</td>\n",
       "      <td>19.99</td>\n",
       "      <td>1619.19</td>\n",
       "    </tr>\n",
       "    <tr>\n",
       "      <th>13</th>\n",
       "      <td>8/15/2019</td>\n",
       "      <td>East</td>\n",
       "      <td>Jones</td>\n",
       "      <td>Pencil</td>\n",
       "      <td>35</td>\n",
       "      <td>4.99</td>\n",
       "      <td>174.65</td>\n",
       "    </tr>\n",
       "    <tr>\n",
       "      <th>14</th>\n",
       "      <td>9/1/2019</td>\n",
       "      <td>Central</td>\n",
       "      <td>Smith</td>\n",
       "      <td>Desk</td>\n",
       "      <td>2</td>\n",
       "      <td>125.00</td>\n",
       "      <td>250.00</td>\n",
       "    </tr>\n",
       "    <tr>\n",
       "      <th>15</th>\n",
       "      <td>9/18/2019</td>\n",
       "      <td>East</td>\n",
       "      <td>Jones</td>\n",
       "      <td>Pen Set</td>\n",
       "      <td>16</td>\n",
       "      <td>15.99</td>\n",
       "      <td>255.84</td>\n",
       "    </tr>\n",
       "    <tr>\n",
       "      <th>16</th>\n",
       "      <td>10/5/2019</td>\n",
       "      <td>Central</td>\n",
       "      <td>Morgan</td>\n",
       "      <td>Binder</td>\n",
       "      <td>28</td>\n",
       "      <td>8.99</td>\n",
       "      <td>251.72</td>\n",
       "    </tr>\n",
       "    <tr>\n",
       "      <th>17</th>\n",
       "      <td>10/22/2019</td>\n",
       "      <td>East</td>\n",
       "      <td>Jones</td>\n",
       "      <td>Pen</td>\n",
       "      <td>64</td>\n",
       "      <td>8.99</td>\n",
       "      <td>575.36</td>\n",
       "    </tr>\n",
       "    <tr>\n",
       "      <th>18</th>\n",
       "      <td>11/8/2019</td>\n",
       "      <td>East</td>\n",
       "      <td>Parent</td>\n",
       "      <td>Pen</td>\n",
       "      <td>15</td>\n",
       "      <td>19.99</td>\n",
       "      <td>299.85</td>\n",
       "    </tr>\n",
       "    <tr>\n",
       "      <th>19</th>\n",
       "      <td>11/25/2019</td>\n",
       "      <td>Central</td>\n",
       "      <td>Kivell</td>\n",
       "      <td>Pen Set</td>\n",
       "      <td>96</td>\n",
       "      <td>4.99</td>\n",
       "      <td>479.04</td>\n",
       "    </tr>\n",
       "    <tr>\n",
       "      <th>20</th>\n",
       "      <td>12/12/2019</td>\n",
       "      <td>Central</td>\n",
       "      <td>Smith</td>\n",
       "      <td>Pencil</td>\n",
       "      <td>67</td>\n",
       "      <td>1.29</td>\n",
       "      <td>86.43</td>\n",
       "    </tr>\n",
       "    <tr>\n",
       "      <th>21</th>\n",
       "      <td>12/29/2019</td>\n",
       "      <td>East</td>\n",
       "      <td>Parent</td>\n",
       "      <td>Pen Set</td>\n",
       "      <td>74</td>\n",
       "      <td>15.99</td>\n",
       "      <td>1183.26</td>\n",
       "    </tr>\n",
       "    <tr>\n",
       "      <th>22</th>\n",
       "      <td>1/15/2020</td>\n",
       "      <td>Central</td>\n",
       "      <td>Gill</td>\n",
       "      <td>Binder</td>\n",
       "      <td>46</td>\n",
       "      <td>8.99</td>\n",
       "      <td>413.54</td>\n",
       "    </tr>\n",
       "    <tr>\n",
       "      <th>23</th>\n",
       "      <td>2/1/2020</td>\n",
       "      <td>Central</td>\n",
       "      <td>Smith</td>\n",
       "      <td>Binder</td>\n",
       "      <td>87</td>\n",
       "      <td>15.00</td>\n",
       "      <td>1305.00</td>\n",
       "    </tr>\n",
       "    <tr>\n",
       "      <th>24</th>\n",
       "      <td>2/18/2020</td>\n",
       "      <td>East</td>\n",
       "      <td>Jones</td>\n",
       "      <td>Binder</td>\n",
       "      <td>4</td>\n",
       "      <td>4.99</td>\n",
       "      <td>19.96</td>\n",
       "    </tr>\n",
       "    <tr>\n",
       "      <th>25</th>\n",
       "      <td>3/7/2020</td>\n",
       "      <td>West</td>\n",
       "      <td>Sorvino</td>\n",
       "      <td>Binder</td>\n",
       "      <td>7</td>\n",
       "      <td>19.99</td>\n",
       "      <td>139.93</td>\n",
       "    </tr>\n",
       "    <tr>\n",
       "      <th>26</th>\n",
       "      <td>3/24/2020</td>\n",
       "      <td>Central</td>\n",
       "      <td>Jardine</td>\n",
       "      <td>Pen Set</td>\n",
       "      <td>50</td>\n",
       "      <td>4.99</td>\n",
       "      <td>249.50</td>\n",
       "    </tr>\n",
       "    <tr>\n",
       "      <th>27</th>\n",
       "      <td>4/10/2020</td>\n",
       "      <td>Central</td>\n",
       "      <td>Andrews</td>\n",
       "      <td>Pencil</td>\n",
       "      <td>66</td>\n",
       "      <td>1.99</td>\n",
       "      <td>131.34</td>\n",
       "    </tr>\n",
       "    <tr>\n",
       "      <th>28</th>\n",
       "      <td>4/27/2020</td>\n",
       "      <td>East</td>\n",
       "      <td>Howard</td>\n",
       "      <td>Pen</td>\n",
       "      <td>96</td>\n",
       "      <td>4.99</td>\n",
       "      <td>479.04</td>\n",
       "    </tr>\n",
       "    <tr>\n",
       "      <th>29</th>\n",
       "      <td>5/14/2020</td>\n",
       "      <td>Central</td>\n",
       "      <td>Gill</td>\n",
       "      <td>Pencil</td>\n",
       "      <td>53</td>\n",
       "      <td>1.29</td>\n",
       "      <td>68.37</td>\n",
       "    </tr>\n",
       "    <tr>\n",
       "      <th>30</th>\n",
       "      <td>5/31/2020</td>\n",
       "      <td>Central</td>\n",
       "      <td>Gill</td>\n",
       "      <td>Binder</td>\n",
       "      <td>80</td>\n",
       "      <td>8.99</td>\n",
       "      <td>719.20</td>\n",
       "    </tr>\n",
       "    <tr>\n",
       "      <th>31</th>\n",
       "      <td>6/17/2020</td>\n",
       "      <td>Central</td>\n",
       "      <td>Kivell</td>\n",
       "      <td>Desk</td>\n",
       "      <td>5</td>\n",
       "      <td>125.00</td>\n",
       "      <td>625.00</td>\n",
       "    </tr>\n",
       "    <tr>\n",
       "      <th>32</th>\n",
       "      <td>7/4/2020</td>\n",
       "      <td>East</td>\n",
       "      <td>Jones</td>\n",
       "      <td>Pen Set</td>\n",
       "      <td>62</td>\n",
       "      <td>4.99</td>\n",
       "      <td>309.38</td>\n",
       "    </tr>\n",
       "    <tr>\n",
       "      <th>33</th>\n",
       "      <td>7/21/2020</td>\n",
       "      <td>Central</td>\n",
       "      <td>Morgan</td>\n",
       "      <td>Pen Set</td>\n",
       "      <td>55</td>\n",
       "      <td>12.49</td>\n",
       "      <td>686.95</td>\n",
       "    </tr>\n",
       "    <tr>\n",
       "      <th>34</th>\n",
       "      <td>8/7/2020</td>\n",
       "      <td>Central</td>\n",
       "      <td>Kivell</td>\n",
       "      <td>Pen Set</td>\n",
       "      <td>42</td>\n",
       "      <td>23.95</td>\n",
       "      <td>1005.90</td>\n",
       "    </tr>\n",
       "    <tr>\n",
       "      <th>35</th>\n",
       "      <td>8/24/2020</td>\n",
       "      <td>West</td>\n",
       "      <td>Sorvino</td>\n",
       "      <td>Desk</td>\n",
       "      <td>3</td>\n",
       "      <td>275.00</td>\n",
       "      <td>825.00</td>\n",
       "    </tr>\n",
       "    <tr>\n",
       "      <th>36</th>\n",
       "      <td>9/10/2020</td>\n",
       "      <td>Central</td>\n",
       "      <td>Gill</td>\n",
       "      <td>Pencil</td>\n",
       "      <td>7</td>\n",
       "      <td>1.29</td>\n",
       "      <td>9.03</td>\n",
       "    </tr>\n",
       "    <tr>\n",
       "      <th>37</th>\n",
       "      <td>9/27/2020</td>\n",
       "      <td>West</td>\n",
       "      <td>Sorvino</td>\n",
       "      <td>Pen</td>\n",
       "      <td>76</td>\n",
       "      <td>1.99</td>\n",
       "      <td>151.24</td>\n",
       "    </tr>\n",
       "    <tr>\n",
       "      <th>38</th>\n",
       "      <td>10/14/2020</td>\n",
       "      <td>West</td>\n",
       "      <td>Thompson</td>\n",
       "      <td>Binder</td>\n",
       "      <td>57</td>\n",
       "      <td>19.99</td>\n",
       "      <td>1139.43</td>\n",
       "    </tr>\n",
       "    <tr>\n",
       "      <th>39</th>\n",
       "      <td>10/31/2020</td>\n",
       "      <td>Central</td>\n",
       "      <td>Andrews</td>\n",
       "      <td>Pencil</td>\n",
       "      <td>14</td>\n",
       "      <td>1.29</td>\n",
       "      <td>18.06</td>\n",
       "    </tr>\n",
       "    <tr>\n",
       "      <th>40</th>\n",
       "      <td>11/17/2020</td>\n",
       "      <td>Central</td>\n",
       "      <td>Jardine</td>\n",
       "      <td>Binder</td>\n",
       "      <td>11</td>\n",
       "      <td>4.99</td>\n",
       "      <td>54.89</td>\n",
       "    </tr>\n",
       "    <tr>\n",
       "      <th>41</th>\n",
       "      <td>12/4/2020</td>\n",
       "      <td>Central</td>\n",
       "      <td>Jardine</td>\n",
       "      <td>Binder</td>\n",
       "      <td>94</td>\n",
       "      <td>19.99</td>\n",
       "      <td>1879.06</td>\n",
       "    </tr>\n",
       "    <tr>\n",
       "      <th>42</th>\n",
       "      <td>12/21/2020</td>\n",
       "      <td>Central</td>\n",
       "      <td>Andrews</td>\n",
       "      <td>Binder</td>\n",
       "      <td>28</td>\n",
       "      <td>4.99</td>\n",
       "      <td>139.72</td>\n",
       "    </tr>\n",
       "  </tbody>\n",
       "</table>\n",
       "</div>"
      ],
      "text/plain": [
       "     OrderDate   Region       Rep     Item  Units  UnitCost    Total\n",
       "0     1/6/2019     East     Jones   Pencil     95      1.99   189.05\n",
       "1    1/23/2019  Central    Kivell   Binder     50     19.99   999.50\n",
       "2     2/9/2019  Central   Jardine   Pencil     36      4.99   179.64\n",
       "3    2/26/2019  Central      Gill      Pen     27     19.99   539.73\n",
       "4    3/15/2019     West   Sorvino   Pencil     56      2.99   167.44\n",
       "5     4/1/2019     East     Jones   Binder     60      4.99   299.40\n",
       "6    4/18/2019  Central   Andrews   Pencil     75      1.99   149.25\n",
       "7     5/5/2019  Central   Jardine   Pencil     90      4.99   449.10\n",
       "8    5/22/2019     West  Thompson   Pencil     32      1.99    63.68\n",
       "9     6/8/2019     East     Jones   Binder     60      8.99   539.40\n",
       "10   6/25/2019  Central    Morgan   Pencil     90      4.99   449.10\n",
       "11   7/12/2019     East    Howard   Binder     29      1.99    57.71\n",
       "12   7/29/2019     East    Parent   Binder     81     19.99  1619.19\n",
       "13   8/15/2019     East     Jones   Pencil     35      4.99   174.65\n",
       "14    9/1/2019  Central     Smith     Desk      2    125.00   250.00\n",
       "15   9/18/2019     East     Jones  Pen Set     16     15.99   255.84\n",
       "16   10/5/2019  Central    Morgan   Binder     28      8.99   251.72\n",
       "17  10/22/2019     East     Jones      Pen     64      8.99   575.36\n",
       "18   11/8/2019     East    Parent      Pen     15     19.99   299.85\n",
       "19  11/25/2019  Central    Kivell  Pen Set     96      4.99   479.04\n",
       "20  12/12/2019  Central     Smith   Pencil     67      1.29    86.43\n",
       "21  12/29/2019     East    Parent  Pen Set     74     15.99  1183.26\n",
       "22   1/15/2020  Central      Gill   Binder     46      8.99   413.54\n",
       "23    2/1/2020  Central     Smith   Binder     87     15.00  1305.00\n",
       "24   2/18/2020     East     Jones   Binder      4      4.99    19.96\n",
       "25    3/7/2020     West   Sorvino   Binder      7     19.99   139.93\n",
       "26   3/24/2020  Central   Jardine  Pen Set     50      4.99   249.50\n",
       "27   4/10/2020  Central   Andrews   Pencil     66      1.99   131.34\n",
       "28   4/27/2020     East    Howard      Pen     96      4.99   479.04\n",
       "29   5/14/2020  Central      Gill   Pencil     53      1.29    68.37\n",
       "30   5/31/2020  Central      Gill   Binder     80      8.99   719.20\n",
       "31   6/17/2020  Central    Kivell     Desk      5    125.00   625.00\n",
       "32    7/4/2020     East     Jones  Pen Set     62      4.99   309.38\n",
       "33   7/21/2020  Central    Morgan  Pen Set     55     12.49   686.95\n",
       "34    8/7/2020  Central    Kivell  Pen Set     42     23.95  1005.90\n",
       "35   8/24/2020     West   Sorvino     Desk      3    275.00   825.00\n",
       "36   9/10/2020  Central      Gill   Pencil      7      1.29     9.03\n",
       "37   9/27/2020     West   Sorvino      Pen     76      1.99   151.24\n",
       "38  10/14/2020     West  Thompson   Binder     57     19.99  1139.43\n",
       "39  10/31/2020  Central   Andrews   Pencil     14      1.29    18.06\n",
       "40  11/17/2020  Central   Jardine   Binder     11      4.99    54.89\n",
       "41   12/4/2020  Central   Jardine   Binder     94     19.99  1879.06\n",
       "42  12/21/2020  Central   Andrews   Binder     28      4.99   139.72"
      ]
     },
     "execution_count": 105,
     "metadata": {},
     "output_type": "execute_result"
    }
   ],
   "source": [
    "eee[0]"
   ]
  },
  {
   "cell_type": "code",
   "execution_count": 114,
   "metadata": {},
   "outputs": [
    {
     "ename": "AttributeError",
     "evalue": "'list' object has no attribute 'Region'",
     "output_type": "error",
     "traceback": [
      "\u001b[1;31m---------------------------------------------------------------------------\u001b[0m",
      "\u001b[1;31mAttributeError\u001b[0m                            Traceback (most recent call last)",
      "\u001b[1;32m<ipython-input-114-c11d5e7b89e9>\u001b[0m in \u001b[0;36m<module>\u001b[1;34m\u001b[0m\n\u001b[1;32m----> 1\u001b[1;33m \u001b[0mwww\u001b[0m\u001b[1;33m=\u001b[0m\u001b[0mpd\u001b[0m\u001b[1;33m.\u001b[0m\u001b[0mcrosstab\u001b[0m\u001b[1;33m(\u001b[0m\u001b[0meee\u001b[0m\u001b[1;33m.\u001b[0m\u001b[0mRegion\u001b[0m\u001b[1;33m,\u001b[0m\u001b[0meee\u001b[0m\u001b[1;33m.\u001b[0m\u001b[0mitem\u001b[0m\u001b[1;33m)\u001b[0m\u001b[1;33m\u001b[0m\u001b[1;33m\u001b[0m\u001b[0m\n\u001b[0m\u001b[0;32m      2\u001b[0m \u001b[0mwww\u001b[0m\u001b[1;33m\u001b[0m\u001b[1;33m\u001b[0m\u001b[0m\n",
      "\u001b[1;31mAttributeError\u001b[0m: 'list' object has no attribute 'Region'"
     ]
    }
   ],
   "source": [
    "www=pd.crosstab(eee.Region,eee.item)\n",
    "www"
   ]
  },
  {
   "cell_type": "code",
   "execution_count": 121,
   "metadata": {},
   "outputs": [
    {
     "data": {
      "text/html": [
       "<div>\n",
       "<style scoped>\n",
       "    .dataframe tbody tr th:only-of-type {\n",
       "        vertical-align: middle;\n",
       "    }\n",
       "\n",
       "    .dataframe tbody tr th {\n",
       "        vertical-align: top;\n",
       "    }\n",
       "\n",
       "    .dataframe thead th {\n",
       "        text-align: right;\n",
       "    }\n",
       "</style>\n",
       "<table border=\"1\" class=\"dataframe\">\n",
       "  <thead>\n",
       "    <tr style=\"text-align: right;\">\n",
       "      <th></th>\n",
       "      <th>A</th>\n",
       "      <th>B</th>\n",
       "      <th>C</th>\n",
       "      <th>D</th>\n",
       "      <th>E</th>\n",
       "    </tr>\n",
       "  </thead>\n",
       "  <tbody>\n",
       "    <tr>\n",
       "      <th>0</th>\n",
       "      <td>0.292293</td>\n",
       "      <td>0.236987</td>\n",
       "      <td>0.976708</td>\n",
       "      <td>0.681466</td>\n",
       "      <td>0.048946</td>\n",
       "    </tr>\n",
       "    <tr>\n",
       "      <th>1</th>\n",
       "      <td>0.241051</td>\n",
       "      <td>0.527450</td>\n",
       "      <td>0.221455</td>\n",
       "      <td>0.475482</td>\n",
       "      <td>0.954025</td>\n",
       "    </tr>\n",
       "    <tr>\n",
       "      <th>2</th>\n",
       "      <td>0.675217</td>\n",
       "      <td>0.847444</td>\n",
       "      <td>0.288931</td>\n",
       "      <td>0.858723</td>\n",
       "      <td>0.114671</td>\n",
       "    </tr>\n",
       "    <tr>\n",
       "      <th>3</th>\n",
       "      <td>0.404502</td>\n",
       "      <td>0.458512</td>\n",
       "      <td>0.723876</td>\n",
       "      <td>0.227697</td>\n",
       "      <td>0.879049</td>\n",
       "    </tr>\n",
       "    <tr>\n",
       "      <th>4</th>\n",
       "      <td>0.133502</td>\n",
       "      <td>0.727066</td>\n",
       "      <td>0.494395</td>\n",
       "      <td>0.086748</td>\n",
       "      <td>0.607555</td>\n",
       "    </tr>\n",
       "    <tr>\n",
       "      <th>5</th>\n",
       "      <td>0.137676</td>\n",
       "      <td>0.309131</td>\n",
       "      <td>0.156021</td>\n",
       "      <td>0.148352</td>\n",
       "      <td>0.769649</td>\n",
       "    </tr>\n",
       "    <tr>\n",
       "      <th>6</th>\n",
       "      <td>0.732371</td>\n",
       "      <td>0.700588</td>\n",
       "      <td>0.342484</td>\n",
       "      <td>0.156862</td>\n",
       "      <td>0.865709</td>\n",
       "    </tr>\n",
       "    <tr>\n",
       "      <th>7</th>\n",
       "      <td>0.107083</td>\n",
       "      <td>0.607403</td>\n",
       "      <td>0.567878</td>\n",
       "      <td>0.061519</td>\n",
       "      <td>0.849582</td>\n",
       "    </tr>\n",
       "    <tr>\n",
       "      <th>8</th>\n",
       "      <td>0.460259</td>\n",
       "      <td>0.546473</td>\n",
       "      <td>0.011590</td>\n",
       "      <td>0.973071</td>\n",
       "      <td>0.865704</td>\n",
       "    </tr>\n",
       "    <tr>\n",
       "      <th>9</th>\n",
       "      <td>0.480157</td>\n",
       "      <td>0.256615</td>\n",
       "      <td>0.519343</td>\n",
       "      <td>0.161430</td>\n",
       "      <td>0.905717</td>\n",
       "    </tr>\n",
       "  </tbody>\n",
       "</table>\n",
       "</div>"
      ],
      "text/plain": [
       "          A         B         C         D         E\n",
       "0  0.292293  0.236987  0.976708  0.681466  0.048946\n",
       "1  0.241051  0.527450  0.221455  0.475482  0.954025\n",
       "2  0.675217  0.847444  0.288931  0.858723  0.114671\n",
       "3  0.404502  0.458512  0.723876  0.227697  0.879049\n",
       "4  0.133502  0.727066  0.494395  0.086748  0.607555\n",
       "5  0.137676  0.309131  0.156021  0.148352  0.769649\n",
       "6  0.732371  0.700588  0.342484  0.156862  0.865709\n",
       "7  0.107083  0.607403  0.567878  0.061519  0.849582\n",
       "8  0.460259  0.546473  0.011590  0.973071  0.865704\n",
       "9  0.480157  0.256615  0.519343  0.161430  0.905717"
      ]
     },
     "execution_count": 121,
     "metadata": {},
     "output_type": "execute_result"
    }
   ],
   "source": [
    "df=pd.DataFrame(np.random.random((10,5)) ,columns=['A','B','C','D','E'])\n",
    "df"
   ]
  },
  {
   "cell_type": "code",
   "execution_count": 122,
   "metadata": {},
   "outputs": [
    {
     "data": {
      "text/html": [
       "<div>\n",
       "<style scoped>\n",
       "    .dataframe tbody tr th:only-of-type {\n",
       "        vertical-align: middle;\n",
       "    }\n",
       "\n",
       "    .dataframe tbody tr th {\n",
       "        vertical-align: top;\n",
       "    }\n",
       "\n",
       "    .dataframe thead th {\n",
       "        text-align: right;\n",
       "    }\n",
       "</style>\n",
       "<table border=\"1\" class=\"dataframe\">\n",
       "  <thead>\n",
       "    <tr style=\"text-align: right;\">\n",
       "      <th></th>\n",
       "      <th>A</th>\n",
       "      <th>B</th>\n",
       "      <th>C</th>\n",
       "      <th>D</th>\n",
       "      <th>E</th>\n",
       "    </tr>\n",
       "  </thead>\n",
       "  <tbody>\n",
       "    <tr>\n",
       "      <th>0</th>\n",
       "      <td>0.292293</td>\n",
       "      <td>0.236987</td>\n",
       "      <td>0.976708</td>\n",
       "      <td>0.681466</td>\n",
       "      <td>0.048946</td>\n",
       "    </tr>\n",
       "    <tr>\n",
       "      <th>1</th>\n",
       "      <td>0.241051</td>\n",
       "      <td>0.527450</td>\n",
       "      <td>0.221455</td>\n",
       "      <td>0.475482</td>\n",
       "      <td>0.954025</td>\n",
       "    </tr>\n",
       "    <tr>\n",
       "      <th>2</th>\n",
       "      <td>0.675217</td>\n",
       "      <td>0.847444</td>\n",
       "      <td>0.288931</td>\n",
       "      <td>0.858723</td>\n",
       "      <td>0.114671</td>\n",
       "    </tr>\n",
       "    <tr>\n",
       "      <th>3</th>\n",
       "      <td>0.404502</td>\n",
       "      <td>0.458512</td>\n",
       "      <td>0.723876</td>\n",
       "      <td>0.227697</td>\n",
       "      <td>0.879049</td>\n",
       "    </tr>\n",
       "    <tr>\n",
       "      <th>4</th>\n",
       "      <td>0.133502</td>\n",
       "      <td>0.727066</td>\n",
       "      <td>0.494395</td>\n",
       "      <td>0.086748</td>\n",
       "      <td>0.607555</td>\n",
       "    </tr>\n",
       "  </tbody>\n",
       "</table>\n",
       "</div>"
      ],
      "text/plain": [
       "          A         B         C         D         E\n",
       "0  0.292293  0.236987  0.976708  0.681466  0.048946\n",
       "1  0.241051  0.527450  0.221455  0.475482  0.954025\n",
       "2  0.675217  0.847444  0.288931  0.858723  0.114671\n",
       "3  0.404502  0.458512  0.723876  0.227697  0.879049\n",
       "4  0.133502  0.727066  0.494395  0.086748  0.607555"
      ]
     },
     "execution_count": 122,
     "metadata": {},
     "output_type": "execute_result"
    }
   ],
   "source": [
    "df.head()"
   ]
  },
  {
   "cell_type": "code",
   "execution_count": 123,
   "metadata": {},
   "outputs": [
    {
     "data": {
      "text/html": [
       "<div>\n",
       "<style scoped>\n",
       "    .dataframe tbody tr th:only-of-type {\n",
       "        vertical-align: middle;\n",
       "    }\n",
       "\n",
       "    .dataframe tbody tr th {\n",
       "        vertical-align: top;\n",
       "    }\n",
       "\n",
       "    .dataframe thead th {\n",
       "        text-align: right;\n",
       "    }\n",
       "</style>\n",
       "<table border=\"1\" class=\"dataframe\">\n",
       "  <thead>\n",
       "    <tr style=\"text-align: right;\">\n",
       "      <th></th>\n",
       "      <th>A</th>\n",
       "      <th>B</th>\n",
       "      <th>C</th>\n",
       "      <th>D</th>\n",
       "      <th>E</th>\n",
       "    </tr>\n",
       "  </thead>\n",
       "  <tbody>\n",
       "    <tr>\n",
       "      <th>5</th>\n",
       "      <td>0.137676</td>\n",
       "      <td>0.309131</td>\n",
       "      <td>0.156021</td>\n",
       "      <td>0.148352</td>\n",
       "      <td>0.769649</td>\n",
       "    </tr>\n",
       "    <tr>\n",
       "      <th>6</th>\n",
       "      <td>0.732371</td>\n",
       "      <td>0.700588</td>\n",
       "      <td>0.342484</td>\n",
       "      <td>0.156862</td>\n",
       "      <td>0.865709</td>\n",
       "    </tr>\n",
       "    <tr>\n",
       "      <th>7</th>\n",
       "      <td>0.107083</td>\n",
       "      <td>0.607403</td>\n",
       "      <td>0.567878</td>\n",
       "      <td>0.061519</td>\n",
       "      <td>0.849582</td>\n",
       "    </tr>\n",
       "    <tr>\n",
       "      <th>8</th>\n",
       "      <td>0.460259</td>\n",
       "      <td>0.546473</td>\n",
       "      <td>0.011590</td>\n",
       "      <td>0.973071</td>\n",
       "      <td>0.865704</td>\n",
       "    </tr>\n",
       "    <tr>\n",
       "      <th>9</th>\n",
       "      <td>0.480157</td>\n",
       "      <td>0.256615</td>\n",
       "      <td>0.519343</td>\n",
       "      <td>0.161430</td>\n",
       "      <td>0.905717</td>\n",
       "    </tr>\n",
       "  </tbody>\n",
       "</table>\n",
       "</div>"
      ],
      "text/plain": [
       "          A         B         C         D         E\n",
       "5  0.137676  0.309131  0.156021  0.148352  0.769649\n",
       "6  0.732371  0.700588  0.342484  0.156862  0.865709\n",
       "7  0.107083  0.607403  0.567878  0.061519  0.849582\n",
       "8  0.460259  0.546473  0.011590  0.973071  0.865704\n",
       "9  0.480157  0.256615  0.519343  0.161430  0.905717"
      ]
     },
     "execution_count": 123,
     "metadata": {},
     "output_type": "execute_result"
    }
   ],
   "source": [
    "df.tail()"
   ]
  },
  {
   "cell_type": "code",
   "execution_count": 124,
   "metadata": {},
   "outputs": [
    {
     "data": {
      "text/html": [
       "<div>\n",
       "<style scoped>\n",
       "    .dataframe tbody tr th:only-of-type {\n",
       "        vertical-align: middle;\n",
       "    }\n",
       "\n",
       "    .dataframe tbody tr th {\n",
       "        vertical-align: top;\n",
       "    }\n",
       "\n",
       "    .dataframe thead th {\n",
       "        text-align: right;\n",
       "    }\n",
       "</style>\n",
       "<table border=\"1\" class=\"dataframe\">\n",
       "  <thead>\n",
       "    <tr style=\"text-align: right;\">\n",
       "      <th></th>\n",
       "      <th>A</th>\n",
       "      <th>B</th>\n",
       "      <th>C</th>\n",
       "      <th>D</th>\n",
       "      <th>E</th>\n",
       "    </tr>\n",
       "  </thead>\n",
       "  <tbody>\n",
       "    <tr>\n",
       "      <th>count</th>\n",
       "      <td>10.000000</td>\n",
       "      <td>10.000000</td>\n",
       "      <td>10.000000</td>\n",
       "      <td>10.000000</td>\n",
       "      <td>10.000000</td>\n",
       "    </tr>\n",
       "    <tr>\n",
       "      <th>mean</th>\n",
       "      <td>0.366411</td>\n",
       "      <td>0.521767</td>\n",
       "      <td>0.430268</td>\n",
       "      <td>0.383135</td>\n",
       "      <td>0.686061</td>\n",
       "    </tr>\n",
       "    <tr>\n",
       "      <th>std</th>\n",
       "      <td>0.222987</td>\n",
       "      <td>0.207842</td>\n",
       "      <td>0.286274</td>\n",
       "      <td>0.340368</td>\n",
       "      <td>0.332354</td>\n",
       "    </tr>\n",
       "    <tr>\n",
       "      <th>min</th>\n",
       "      <td>0.107083</td>\n",
       "      <td>0.236987</td>\n",
       "      <td>0.011590</td>\n",
       "      <td>0.061519</td>\n",
       "      <td>0.048946</td>\n",
       "    </tr>\n",
       "    <tr>\n",
       "      <th>25%</th>\n",
       "      <td>0.163520</td>\n",
       "      <td>0.346477</td>\n",
       "      <td>0.238324</td>\n",
       "      <td>0.150480</td>\n",
       "      <td>0.648079</td>\n",
       "    </tr>\n",
       "    <tr>\n",
       "      <th>50%</th>\n",
       "      <td>0.348397</td>\n",
       "      <td>0.536961</td>\n",
       "      <td>0.418439</td>\n",
       "      <td>0.194564</td>\n",
       "      <td>0.857643</td>\n",
       "    </tr>\n",
       "    <tr>\n",
       "      <th>75%</th>\n",
       "      <td>0.475182</td>\n",
       "      <td>0.677292</td>\n",
       "      <td>0.555745</td>\n",
       "      <td>0.629970</td>\n",
       "      <td>0.875714</td>\n",
       "    </tr>\n",
       "    <tr>\n",
       "      <th>max</th>\n",
       "      <td>0.732371</td>\n",
       "      <td>0.847444</td>\n",
       "      <td>0.976708</td>\n",
       "      <td>0.973071</td>\n",
       "      <td>0.954025</td>\n",
       "    </tr>\n",
       "  </tbody>\n",
       "</table>\n",
       "</div>"
      ],
      "text/plain": [
       "               A          B          C          D          E\n",
       "count  10.000000  10.000000  10.000000  10.000000  10.000000\n",
       "mean    0.366411   0.521767   0.430268   0.383135   0.686061\n",
       "std     0.222987   0.207842   0.286274   0.340368   0.332354\n",
       "min     0.107083   0.236987   0.011590   0.061519   0.048946\n",
       "25%     0.163520   0.346477   0.238324   0.150480   0.648079\n",
       "50%     0.348397   0.536961   0.418439   0.194564   0.857643\n",
       "75%     0.475182   0.677292   0.555745   0.629970   0.875714\n",
       "max     0.732371   0.847444   0.976708   0.973071   0.954025"
      ]
     },
     "execution_count": 124,
     "metadata": {},
     "output_type": "execute_result"
    }
   ],
   "source": [
    "df.describe()"
   ]
  },
  {
   "cell_type": "code",
   "execution_count": 126,
   "metadata": {},
   "outputs": [
    {
     "data": {
      "text/plain": [
       "0    0.292293\n",
       "1    0.241051\n",
       "2    0.675217\n",
       "3    0.404502\n",
       "4    0.133502\n",
       "Name: A, dtype: float64"
      ]
     },
     "execution_count": 126,
     "metadata": {},
     "output_type": "execute_result"
    }
   ],
   "source": [
    "column=df['A']\n",
    "column.head()"
   ]
  },
  {
   "cell_type": "code",
   "execution_count": 128,
   "metadata": {},
   "outputs": [
    {
     "data": {
      "text/plain": [
       "0    0.292293\n",
       "1    0.241051\n",
       "2    0.675217\n",
       "3    0.404502\n",
       "4    0.133502\n",
       "5    0.137676\n",
       "6    0.732371\n",
       "7    0.107083\n",
       "8    0.460259\n",
       "9    0.480157\n",
       "Name: A, dtype: float64"
      ]
     },
     "execution_count": 128,
     "metadata": {},
     "output_type": "execute_result"
    }
   ],
   "source": [
    "column[np.abs(column)>3]\n",
    "column"
   ]
  },
  {
   "cell_type": "code",
   "execution_count": 129,
   "metadata": {},
   "outputs": [
    {
     "data": {
      "text/html": [
       "<div>\n",
       "<style scoped>\n",
       "    .dataframe tbody tr th:only-of-type {\n",
       "        vertical-align: middle;\n",
       "    }\n",
       "\n",
       "    .dataframe tbody tr th {\n",
       "        vertical-align: top;\n",
       "    }\n",
       "\n",
       "    .dataframe thead th {\n",
       "        text-align: right;\n",
       "    }\n",
       "</style>\n",
       "<table border=\"1\" class=\"dataframe\">\n",
       "  <thead>\n",
       "    <tr style=\"text-align: right;\">\n",
       "      <th></th>\n",
       "      <th>A</th>\n",
       "      <th>B</th>\n",
       "      <th>C</th>\n",
       "      <th>D</th>\n",
       "      <th>E</th>\n",
       "    </tr>\n",
       "  </thead>\n",
       "  <tbody>\n",
       "    <tr>\n",
       "      <th>0</th>\n",
       "      <td>0.292293</td>\n",
       "      <td>2.369874</td>\n",
       "      <td>0.976708</td>\n",
       "      <td>0.681466</td>\n",
       "      <td>0.048946</td>\n",
       "    </tr>\n",
       "    <tr>\n",
       "      <th>1</th>\n",
       "      <td>0.241051</td>\n",
       "      <td>5.274495</td>\n",
       "      <td>0.221455</td>\n",
       "      <td>0.475482</td>\n",
       "      <td>0.954025</td>\n",
       "    </tr>\n",
       "    <tr>\n",
       "      <th>2</th>\n",
       "      <td>0.675217</td>\n",
       "      <td>8.474438</td>\n",
       "      <td>0.288931</td>\n",
       "      <td>0.858723</td>\n",
       "      <td>0.114671</td>\n",
       "    </tr>\n",
       "    <tr>\n",
       "      <th>3</th>\n",
       "      <td>0.404502</td>\n",
       "      <td>4.585124</td>\n",
       "      <td>0.723876</td>\n",
       "      <td>0.227697</td>\n",
       "      <td>0.879049</td>\n",
       "    </tr>\n",
       "    <tr>\n",
       "      <th>4</th>\n",
       "      <td>0.133502</td>\n",
       "      <td>7.270659</td>\n",
       "      <td>0.494395</td>\n",
       "      <td>0.086748</td>\n",
       "      <td>0.607555</td>\n",
       "    </tr>\n",
       "    <tr>\n",
       "      <th>5</th>\n",
       "      <td>0.137676</td>\n",
       "      <td>3.091314</td>\n",
       "      <td>0.156021</td>\n",
       "      <td>0.148352</td>\n",
       "      <td>0.769649</td>\n",
       "    </tr>\n",
       "    <tr>\n",
       "      <th>6</th>\n",
       "      <td>0.732371</td>\n",
       "      <td>7.005879</td>\n",
       "      <td>0.342484</td>\n",
       "      <td>0.156862</td>\n",
       "      <td>0.865709</td>\n",
       "    </tr>\n",
       "    <tr>\n",
       "      <th>7</th>\n",
       "      <td>0.107083</td>\n",
       "      <td>6.074033</td>\n",
       "      <td>0.567878</td>\n",
       "      <td>0.061519</td>\n",
       "      <td>0.849582</td>\n",
       "    </tr>\n",
       "    <tr>\n",
       "      <th>8</th>\n",
       "      <td>0.460259</td>\n",
       "      <td>5.464735</td>\n",
       "      <td>0.011590</td>\n",
       "      <td>0.973071</td>\n",
       "      <td>0.865704</td>\n",
       "    </tr>\n",
       "    <tr>\n",
       "      <th>9</th>\n",
       "      <td>0.480157</td>\n",
       "      <td>2.566151</td>\n",
       "      <td>0.519343</td>\n",
       "      <td>0.161430</td>\n",
       "      <td>0.905717</td>\n",
       "    </tr>\n",
       "  </tbody>\n",
       "</table>\n",
       "</div>"
      ],
      "text/plain": [
       "          A         B         C         D         E\n",
       "0  0.292293  2.369874  0.976708  0.681466  0.048946\n",
       "1  0.241051  5.274495  0.221455  0.475482  0.954025\n",
       "2  0.675217  8.474438  0.288931  0.858723  0.114671\n",
       "3  0.404502  4.585124  0.723876  0.227697  0.879049\n",
       "4  0.133502  7.270659  0.494395  0.086748  0.607555\n",
       "5  0.137676  3.091314  0.156021  0.148352  0.769649\n",
       "6  0.732371  7.005879  0.342484  0.156862  0.865709\n",
       "7  0.107083  6.074033  0.567878  0.061519  0.849582\n",
       "8  0.460259  5.464735  0.011590  0.973071  0.865704\n",
       "9  0.480157  2.566151  0.519343  0.161430  0.905717"
      ]
     },
     "execution_count": 129,
     "metadata": {},
     "output_type": "execute_result"
    }
   ],
   "source": [
    "df['B']=10*df['B']\n",
    "df"
   ]
  },
  {
   "cell_type": "code",
   "execution_count": 131,
   "metadata": {},
   "outputs": [
    {
     "data": {
      "text/plain": [
       "8.474438017003074"
      ]
     },
     "execution_count": 131,
     "metadata": {},
     "output_type": "execute_result"
    }
   ],
   "source": [
    "df['B'].max()"
   ]
  },
  {
   "cell_type": "code",
   "execution_count": 132,
   "metadata": {},
   "outputs": [
    {
     "data": {
      "text/plain": [
       "0.10708283940972463"
      ]
     },
     "execution_count": 132,
     "metadata": {},
     "output_type": "execute_result"
    }
   ],
   "source": [
    "df['A'].min()"
   ]
  },
  {
   "cell_type": "code",
   "execution_count": 136,
   "metadata": {},
   "outputs": [
    {
     "data": {
      "text/plain": [
       "count    10.000000\n",
       "mean      5.217670\n",
       "std       2.078424\n",
       "min       2.369874\n",
       "25%       3.464767\n",
       "50%       5.369615\n",
       "75%       6.772918\n",
       "max       8.474438\n",
       "Name: B, dtype: float64"
      ]
     },
     "execution_count": 136,
     "metadata": {},
     "output_type": "execute_result"
    }
   ],
   "source": [
    "df.describe()\n",
    "df['B'].describe()"
   ]
  },
  {
   "cell_type": "markdown",
   "metadata": {},
   "source": [
    "binning values"
   ]
  },
  {
   "cell_type": "code",
   "execution_count": 137,
   "metadata": {},
   "outputs": [
    {
     "data": {
      "text/plain": [
       "array([ 0,  1,  2,  3,  4,  5,  6,  7,  8,  9, 10, 11, 12, 13, 14, 15, 16,\n",
       "       17, 18, 19, 20, 21, 22, 23, 24, 25, 26, 27, 28, 29, 30, 31, 32, 33,\n",
       "       34, 35, 36, 37, 38, 39, 40, 41, 42, 43, 44, 45, 46, 47, 48, 49])"
      ]
     },
     "execution_count": 137,
     "metadata": {},
     "output_type": "execute_result"
    }
   ],
   "source": [
    "bhim=np.arange(50)\n",
    "bhim\n"
   ]
  },
  {
   "cell_type": "code",
   "execution_count": 139,
   "metadata": {},
   "outputs": [
    {
     "data": {
      "text/plain": [
       "[NaN, (0.0, 10.0], (0.0, 10.0], (0.0, 10.0], (0.0, 10.0], ..., (40, 50], (40, 50], (40, 50], (40, 50], (40, 50]]\n",
       "Length: 50\n",
       "Categories (5, interval[int64]): [(0, 10] < (10, 20] < (20, 30] < (30, 40] < (40, 50]]"
      ]
     },
     "execution_count": 139,
     "metadata": {},
     "output_type": "execute_result"
    }
   ],
   "source": [
    "cate=[0,10,20,30,40,50]\n",
    "category=pd.cut(bhim,cate)\n",
    "category"
   ]
  },
  {
   "cell_type": "code",
   "execution_count": 140,
   "metadata": {},
   "outputs": [
    {
     "data": {
      "text/plain": [
       "IntervalIndex([(0, 10], (10, 20], (20, 30], (30, 40], (40, 50]],\n",
       "              closed='right',\n",
       "              dtype='interval[int64]')"
      ]
     },
     "execution_count": 140,
     "metadata": {},
     "output_type": "execute_result"
    }
   ],
   "source": [
    "category.categories"
   ]
  },
  {
   "cell_type": "code",
   "execution_count": 142,
   "metadata": {},
   "outputs": [
    {
     "data": {
      "text/plain": [
       "(30, 40]    10\n",
       "(20, 30]    10\n",
       "(10, 20]    10\n",
       "(0, 10]     10\n",
       "(40, 50]     9\n",
       "dtype: int64"
      ]
     },
     "execution_count": 142,
     "metadata": {},
     "output_type": "execute_result"
    }
   ],
   "source": [
    "pd.value_counts(category)"
   ]
  },
  {
   "cell_type": "code",
   "execution_count": 144,
   "metadata": {},
   "outputs": [
    {
     "data": {
      "text/plain": [
       "[(-0.05, 16.3], (-0.05, 16.3], (-0.05, 16.3], (-0.05, 16.3], (-0.05, 16.3], ..., (32.7, 49.0], (32.7, 49.0], (32.7, 49.0], (32.7, 49.0], (32.7, 49.0]]\n",
       "Length: 50\n",
       "Categories (3, interval[float64]): [(-0.05, 16.3] < (16.3, 32.7] < (32.7, 49.0]]"
      ]
     },
     "execution_count": 144,
     "metadata": {},
     "output_type": "execute_result"
    }
   ],
   "source": [
    "pd.cut(bhim,3,precision=1)"
   ]
  },
  {
   "cell_type": "markdown",
   "metadata": {},
   "source": [
    "renaming -indexes"
   ]
  },
  {
   "cell_type": "code",
   "execution_count": 145,
   "metadata": {},
   "outputs": [
    {
     "data": {
      "text/html": [
       "<div>\n",
       "<style scoped>\n",
       "    .dataframe tbody tr th:only-of-type {\n",
       "        vertical-align: middle;\n",
       "    }\n",
       "\n",
       "    .dataframe tbody tr th {\n",
       "        vertical-align: top;\n",
       "    }\n",
       "\n",
       "    .dataframe thead th {\n",
       "        text-align: right;\n",
       "    }\n",
       "</style>\n",
       "<table border=\"1\" class=\"dataframe\">\n",
       "  <thead>\n",
       "    <tr style=\"text-align: right;\">\n",
       "      <th></th>\n",
       "      <th>A</th>\n",
       "      <th>B</th>\n",
       "      <th>C</th>\n",
       "      <th>D</th>\n",
       "      <th>E</th>\n",
       "    </tr>\n",
       "  </thead>\n",
       "  <tbody>\n",
       "    <tr>\n",
       "      <th>REX</th>\n",
       "      <td>0.150378</td>\n",
       "      <td>0.855734</td>\n",
       "      <td>0.786361</td>\n",
       "      <td>0.373861</td>\n",
       "      <td>0.879622</td>\n",
       "    </tr>\n",
       "    <tr>\n",
       "      <th>AWO</th>\n",
       "      <td>0.831212</td>\n",
       "      <td>0.449682</td>\n",
       "      <td>0.187463</td>\n",
       "      <td>0.664930</td>\n",
       "      <td>0.697811</td>\n",
       "    </tr>\n",
       "    <tr>\n",
       "      <th>YAW</th>\n",
       "      <td>0.110067</td>\n",
       "      <td>0.451403</td>\n",
       "      <td>0.186669</td>\n",
       "      <td>0.731774</td>\n",
       "      <td>0.085026</td>\n",
       "    </tr>\n",
       "    <tr>\n",
       "      <th>MARK</th>\n",
       "      <td>0.133720</td>\n",
       "      <td>0.694616</td>\n",
       "      <td>0.788341</td>\n",
       "      <td>0.291677</td>\n",
       "      <td>0.295805</td>\n",
       "    </tr>\n",
       "    <tr>\n",
       "      <th>GRAD</th>\n",
       "      <td>0.943061</td>\n",
       "      <td>0.944274</td>\n",
       "      <td>0.321602</td>\n",
       "      <td>0.043150</td>\n",
       "      <td>0.301592</td>\n",
       "    </tr>\n",
       "  </tbody>\n",
       "</table>\n",
       "</div>"
      ],
      "text/plain": [
       "             A         B         C         D         E\n",
       "REX   0.150378  0.855734  0.786361  0.373861  0.879622\n",
       "AWO   0.831212  0.449682  0.187463  0.664930  0.697811\n",
       "YAW   0.110067  0.451403  0.186669  0.731774  0.085026\n",
       "MARK  0.133720  0.694616  0.788341  0.291677  0.295805\n",
       "GRAD  0.943061  0.944274  0.321602  0.043150  0.301592"
      ]
     },
     "execution_count": 145,
     "metadata": {},
     "output_type": "execute_result"
    }
   ],
   "source": [
    "awo=pd.DataFrame(np.random.random((5,5)),index=['REX','AWO','YAW','MARK','GRAD'],columns=['A','B','C','D','E'])\n",
    "awo"
   ]
  },
  {
   "cell_type": "code",
   "execution_count": 163,
   "metadata": {},
   "outputs": [
    {
     "data": {
      "text/plain": [
       "0    1.0\n",
       "1    4.0\n",
       "2    NaN\n",
       "3    6.0\n",
       "4    7.0\n",
       "5    8.0\n",
       "6    8.0\n",
       "dtype: float64"
      ]
     },
     "execution_count": 163,
     "metadata": {},
     "output_type": "execute_result"
    }
   ],
   "source": [
    "s1=pd.Series([1,4,5,6,7,8,8])\n",
    "s1\n",
    "s1.replace(5,np.nan)"
   ]
  },
  {
   "cell_type": "code",
   "execution_count": 161,
   "metadata": {},
   "outputs": [],
   "source": [
    "pd.Series?"
   ]
  },
  {
   "cell_type": "code",
   "execution_count": 7,
   "metadata": {},
   "outputs": [],
   "source": [
    "import numpy as np \n",
    "import pandas as pd \n",
    "%matplotlib inline \n",
    "import matplotlib as plt\n",
    "from scipy import stats\n",
    "import seaborn as sns "
   ]
  },
  {
   "cell_type": "code",
   "execution_count": 8,
   "metadata": {},
   "outputs": [
    {
     "data": {
      "text/html": [
       "<div>\n",
       "<style scoped>\n",
       "    .dataframe tbody tr th:only-of-type {\n",
       "        vertical-align: middle;\n",
       "    }\n",
       "\n",
       "    .dataframe tbody tr th {\n",
       "        vertical-align: top;\n",
       "    }\n",
       "\n",
       "    .dataframe thead th {\n",
       "        text-align: right;\n",
       "    }\n",
       "</style>\n",
       "<table border=\"1\" class=\"dataframe\">\n",
       "  <thead>\n",
       "    <tr style=\"text-align: right;\">\n",
       "      <th></th>\n",
       "      <th>NAME</th>\n",
       "      <th>AGE</th>\n",
       "      <th>HEIGHT</th>\n",
       "    </tr>\n",
       "  </thead>\n",
       "  <tbody>\n",
       "    <tr>\n",
       "      <th>1ST PERSON</th>\n",
       "      <td>CALEB</td>\n",
       "      <td>20</td>\n",
       "      <td>6.4</td>\n",
       "    </tr>\n",
       "    <tr>\n",
       "      <th>2ND PERSON</th>\n",
       "      <td>DZIFA</td>\n",
       "      <td>17</td>\n",
       "      <td>5.5</td>\n",
       "    </tr>\n",
       "    <tr>\n",
       "      <th>3RD PERDON</th>\n",
       "      <td>DICKSON</td>\n",
       "      <td>60</td>\n",
       "      <td>6.2</td>\n",
       "    </tr>\n",
       "    <tr>\n",
       "      <th>4TH PERSON</th>\n",
       "      <td>MERCY</td>\n",
       "      <td>55</td>\n",
       "      <td>6.3</td>\n",
       "    </tr>\n",
       "    <tr>\n",
       "      <th>5TH PERSON</th>\n",
       "      <td>EUNICE</td>\n",
       "      <td>26</td>\n",
       "      <td>5.5</td>\n",
       "    </tr>\n",
       "    <tr>\n",
       "      <th>6TH PERSON</th>\n",
       "      <td>PATRICK</td>\n",
       "      <td>31</td>\n",
       "      <td>6.0</td>\n",
       "    </tr>\n",
       "  </tbody>\n",
       "</table>\n",
       "</div>"
      ],
      "text/plain": [
       "               NAME  AGE  HEIGHT\n",
       "1ST PERSON    CALEB   20     6.4\n",
       "2ND PERSON    DZIFA   17     5.5\n",
       "3RD PERDON  DICKSON   60     6.2\n",
       "4TH PERSON    MERCY   55     6.3\n",
       "5TH PERSON   EUNICE   26     5.5\n",
       "6TH PERSON  PATRICK   31     6.0"
      ]
     },
     "execution_count": 8,
     "metadata": {},
     "output_type": "execute_result"
    }
   ],
   "source": [
    "data={\"NAME\":['CALEB','DZIFA','DICKSON','MERCY','EUNICE','PATRICK'],\n",
    "     \"AGE\":[20,17,60,55,26,31],\n",
    "     \"HEIGHT\":[6.4,5.5,6.2,6.3,5.5,6.0]\n",
    "    }\n",
    "ram=pd.DataFrame(data,index=['1ST PERSON','2ND PERSON','3RD PERDON','4TH PERSON','5TH PERSON','6TH PERSON'])\n",
    "ram\n"
   ]
  },
  {
   "cell_type": "code",
   "execution_count": 9,
   "metadata": {},
   "outputs": [
    {
     "data": {
      "text/html": [
       "<div>\n",
       "<style scoped>\n",
       "    .dataframe tbody tr th:only-of-type {\n",
       "        vertical-align: middle;\n",
       "    }\n",
       "\n",
       "    .dataframe tbody tr th {\n",
       "        vertical-align: top;\n",
       "    }\n",
       "\n",
       "    .dataframe thead th {\n",
       "        text-align: right;\n",
       "    }\n",
       "</style>\n",
       "<table border=\"1\" class=\"dataframe\">\n",
       "  <thead>\n",
       "    <tr style=\"text-align: right;\">\n",
       "      <th></th>\n",
       "      <th>NAME</th>\n",
       "      <th>AGE</th>\n",
       "      <th>HEIGHT</th>\n",
       "      <th>BLOOD GROUP</th>\n",
       "      <th>AGEGROUP</th>\n",
       "    </tr>\n",
       "  </thead>\n",
       "  <tbody>\n",
       "    <tr>\n",
       "      <th>1ST PERSON</th>\n",
       "      <td>CALEB</td>\n",
       "      <td>20</td>\n",
       "      <td>6.4</td>\n",
       "      <td>AO</td>\n",
       "      <td>YOUNG</td>\n",
       "    </tr>\n",
       "    <tr>\n",
       "      <th>2ND PERSON</th>\n",
       "      <td>DZIFA</td>\n",
       "      <td>17</td>\n",
       "      <td>5.5</td>\n",
       "      <td>OO</td>\n",
       "      <td>YOUNG</td>\n",
       "    </tr>\n",
       "    <tr>\n",
       "      <th>3RD PERDON</th>\n",
       "      <td>DICKSON</td>\n",
       "      <td>60</td>\n",
       "      <td>6.2</td>\n",
       "      <td>AB</td>\n",
       "      <td>OLD</td>\n",
       "    </tr>\n",
       "    <tr>\n",
       "      <th>4TH PERSON</th>\n",
       "      <td>MERCY</td>\n",
       "      <td>55</td>\n",
       "      <td>6.3</td>\n",
       "      <td>AA</td>\n",
       "      <td>OLD</td>\n",
       "    </tr>\n",
       "    <tr>\n",
       "      <th>5TH PERSON</th>\n",
       "      <td>EUNICE</td>\n",
       "      <td>26</td>\n",
       "      <td>5.5</td>\n",
       "      <td>AA</td>\n",
       "      <td>YOUNG</td>\n",
       "    </tr>\n",
       "    <tr>\n",
       "      <th>6TH PERSON</th>\n",
       "      <td>PATRICK</td>\n",
       "      <td>31</td>\n",
       "      <td>6.0</td>\n",
       "      <td>OO</td>\n",
       "      <td>OLD</td>\n",
       "    </tr>\n",
       "  </tbody>\n",
       "</table>\n",
       "</div>"
      ],
      "text/plain": [
       "               NAME  AGE  HEIGHT BLOOD GROUP AGEGROUP\n",
       "1ST PERSON    CALEB   20     6.4          AO    YOUNG\n",
       "2ND PERSON    DZIFA   17     5.5          OO    YOUNG\n",
       "3RD PERDON  DICKSON   60     6.2          AB      OLD\n",
       "4TH PERSON    MERCY   55     6.3          AA      OLD\n",
       "5TH PERSON   EUNICE   26     5.5          AA    YOUNG\n",
       "6TH PERSON  PATRICK   31     6.0          OO      OLD"
      ]
     },
     "execution_count": 9,
     "metadata": {},
     "output_type": "execute_result"
    }
   ],
   "source": [
    "BloodGroup=np.array(['AO','OO','AB','AA','AA','OO'])\n",
    "AgeGroup=np.array(['YOUNG','YOUNG','OLD','OLD','YOUNG','OLD'])\n",
    "ram[\"BLOOD GROUP\"]=BloodGroup\n",
    "ram[\"AGEGROUP\"]=AgeGroup\n",
    "\n",
    "ram"
   ]
  },
  {
   "cell_type": "code",
   "execution_count": 10,
   "metadata": {},
   "outputs": [
    {
     "data": {
      "text/plain": [
       "count     6.000000\n",
       "mean     34.833333\n",
       "std      18.280226\n",
       "min      17.000000\n",
       "25%      21.500000\n",
       "50%      28.500000\n",
       "75%      49.000000\n",
       "max      60.000000\n",
       "Name: AGE, dtype: float64"
      ]
     },
     "execution_count": 10,
     "metadata": {},
     "output_type": "execute_result"
    }
   ],
   "source": [
    "ram['AGE'].describe()"
   ]
  },
  {
   "cell_type": "code",
   "execution_count": null,
   "metadata": {},
   "outputs": [],
   "source": []
  }
 ],
 "metadata": {
  "kernelspec": {
   "display_name": "Python 3",
   "language": "python",
   "name": "python3"
  },
  "language_info": {
   "codemirror_mode": {
    "name": "ipython",
    "version": 3
   },
   "file_extension": ".py",
   "mimetype": "text/x-python",
   "name": "python",
   "nbconvert_exporter": "python",
   "pygments_lexer": "ipython3",
   "version": "3.7.3"
  }
 },
 "nbformat": 4,
 "nbformat_minor": 2
}
